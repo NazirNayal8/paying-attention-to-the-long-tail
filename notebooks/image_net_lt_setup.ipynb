{
 "cells": [
  {
   "cell_type": "code",
   "execution_count": 1,
   "metadata": {},
   "outputs": [
    {
     "data": {
      "text/plain": [
       "'/scratch/users/nnayal17/attention_long_tail/paying-attention-to-the-long-tail'"
      ]
     },
     "execution_count": 1,
     "metadata": {},
     "output_type": "execute_result"
    }
   ],
   "source": [
    "import os\n",
    "os.chdir('../')\n",
    "os.getcwd()"
   ]
  },
  {
   "cell_type": "code",
   "execution_count": 40,
   "metadata": {},
   "outputs": [],
   "source": [
    "import json\n",
    "import PIL\n",
    "import numpy as np\n",
    "import matplotlib.pyplot as plt\n",
    "from PIL import Image\n",
    "from tqdm.notebook import tqdm"
   ]
  },
  {
   "cell_type": "code",
   "execution_count": 8,
   "metadata": {},
   "outputs": [],
   "source": [
    "with open('data/imagenet_class_names.json', 'rb') as f:\n",
    "    class_names = json.load(f)"
   ]
  },
  {
   "cell_type": "code",
   "execution_count": 9,
   "metadata": {},
   "outputs": [
    {
     "data": {
      "text/plain": [
       "['tench',\n",
       " 'goldfish',\n",
       " 'great white shark',\n",
       " 'tiger shark',\n",
       " 'hammerhead shark',\n",
       " 'electric ray',\n",
       " 'stingray',\n",
       " 'cock',\n",
       " 'hen',\n",
       " 'ostrich',\n",
       " 'brambling',\n",
       " 'goldfinch',\n",
       " 'house finch',\n",
       " 'junco',\n",
       " 'indigo bunting',\n",
       " 'American robin',\n",
       " 'bulbul',\n",
       " 'jay',\n",
       " 'magpie',\n",
       " 'chickadee',\n",
       " 'American dipper',\n",
       " 'kite',\n",
       " 'bald eagle',\n",
       " 'vulture',\n",
       " 'great grey owl',\n",
       " 'fire salamander',\n",
       " 'smooth newt',\n",
       " 'newt',\n",
       " 'spotted salamander',\n",
       " 'axolotl',\n",
       " 'American bullfrog',\n",
       " 'tree frog',\n",
       " 'tailed frog',\n",
       " 'loggerhead sea turtle',\n",
       " 'leatherback sea turtle',\n",
       " 'mud turtle',\n",
       " 'terrapin',\n",
       " 'box turtle',\n",
       " 'banded gecko',\n",
       " 'green iguana',\n",
       " 'Carolina anole',\n",
       " 'desert grassland whiptail lizard',\n",
       " 'agama',\n",
       " 'frilled-necked lizard',\n",
       " 'alligator lizard',\n",
       " 'Gila monster',\n",
       " 'European green lizard',\n",
       " 'chameleon',\n",
       " 'Komodo dragon',\n",
       " 'Nile crocodile',\n",
       " 'American alligator',\n",
       " 'triceratops',\n",
       " 'worm snake',\n",
       " 'ring-necked snake',\n",
       " 'eastern hog-nosed snake',\n",
       " 'smooth green snake',\n",
       " 'kingsnake',\n",
       " 'garter snake',\n",
       " 'water snake',\n",
       " 'vine snake',\n",
       " 'night snake',\n",
       " 'boa constrictor',\n",
       " 'African rock python',\n",
       " 'Indian cobra',\n",
       " 'green mamba',\n",
       " 'sea snake',\n",
       " 'Saharan horned viper',\n",
       " 'eastern diamondback rattlesnake',\n",
       " 'sidewinder',\n",
       " 'trilobite',\n",
       " 'harvestman',\n",
       " 'scorpion',\n",
       " 'yellow garden spider',\n",
       " 'barn spider',\n",
       " 'European garden spider',\n",
       " 'southern black widow',\n",
       " 'tarantula',\n",
       " 'wolf spider',\n",
       " 'tick',\n",
       " 'centipede',\n",
       " 'black grouse',\n",
       " 'ptarmigan',\n",
       " 'ruffed grouse',\n",
       " 'prairie grouse',\n",
       " 'peacock',\n",
       " 'quail',\n",
       " 'partridge',\n",
       " 'grey parrot',\n",
       " 'macaw',\n",
       " 'sulphur-crested cockatoo',\n",
       " 'lorikeet',\n",
       " 'coucal',\n",
       " 'bee eater',\n",
       " 'hornbill',\n",
       " 'hummingbird',\n",
       " 'jacamar',\n",
       " 'toucan',\n",
       " 'duck',\n",
       " 'red-breasted merganser',\n",
       " 'goose',\n",
       " 'black swan',\n",
       " 'tusker',\n",
       " 'echidna',\n",
       " 'platypus',\n",
       " 'wallaby',\n",
       " 'koala',\n",
       " 'wombat',\n",
       " 'jellyfish',\n",
       " 'sea anemone',\n",
       " 'brain coral',\n",
       " 'flatworm',\n",
       " 'nematode',\n",
       " 'conch',\n",
       " 'snail',\n",
       " 'slug',\n",
       " 'sea slug',\n",
       " 'chiton',\n",
       " 'chambered nautilus',\n",
       " 'Dungeness crab',\n",
       " 'rock crab',\n",
       " 'fiddler crab',\n",
       " 'red king crab',\n",
       " 'American lobster',\n",
       " 'spiny lobster',\n",
       " 'crayfish',\n",
       " 'hermit crab',\n",
       " 'isopod',\n",
       " 'white stork',\n",
       " 'black stork',\n",
       " 'spoonbill',\n",
       " 'flamingo',\n",
       " 'little blue heron',\n",
       " 'great egret',\n",
       " 'bittern',\n",
       " 'crane (bird)',\n",
       " 'limpkin',\n",
       " 'common gallinule',\n",
       " 'American coot',\n",
       " 'bustard',\n",
       " 'ruddy turnstone',\n",
       " 'dunlin',\n",
       " 'common redshank',\n",
       " 'dowitcher',\n",
       " 'oystercatcher',\n",
       " 'pelican',\n",
       " 'king penguin',\n",
       " 'albatross',\n",
       " 'grey whale',\n",
       " 'killer whale',\n",
       " 'dugong',\n",
       " 'sea lion',\n",
       " 'Chihuahua',\n",
       " 'Japanese Chin',\n",
       " 'Maltese',\n",
       " 'Pekingese',\n",
       " 'Shih Tzu',\n",
       " 'King Charles Spaniel',\n",
       " 'Papillon',\n",
       " 'toy terrier',\n",
       " 'Rhodesian Ridgeback',\n",
       " 'Afghan Hound',\n",
       " 'Basset Hound',\n",
       " 'Beagle',\n",
       " 'Bloodhound',\n",
       " 'Bluetick Coonhound',\n",
       " 'Black and Tan Coonhound',\n",
       " 'Treeing Walker Coonhound',\n",
       " 'English foxhound',\n",
       " 'Redbone Coonhound',\n",
       " 'borzoi',\n",
       " 'Irish Wolfhound',\n",
       " 'Italian Greyhound',\n",
       " 'Whippet',\n",
       " 'Ibizan Hound',\n",
       " 'Norwegian Elkhound',\n",
       " 'Otterhound',\n",
       " 'Saluki',\n",
       " 'Scottish Deerhound',\n",
       " 'Weimaraner',\n",
       " 'Staffordshire Bull Terrier',\n",
       " 'American Staffordshire Terrier',\n",
       " 'Bedlington Terrier',\n",
       " 'Border Terrier',\n",
       " 'Kerry Blue Terrier',\n",
       " 'Irish Terrier',\n",
       " 'Norfolk Terrier',\n",
       " 'Norwich Terrier',\n",
       " 'Yorkshire Terrier',\n",
       " 'Wire Fox Terrier',\n",
       " 'Lakeland Terrier',\n",
       " 'Sealyham Terrier',\n",
       " 'Airedale Terrier',\n",
       " 'Cairn Terrier',\n",
       " 'Australian Terrier',\n",
       " 'Dandie Dinmont Terrier',\n",
       " 'Boston Terrier',\n",
       " 'Miniature Schnauzer',\n",
       " 'Giant Schnauzer',\n",
       " 'Standard Schnauzer',\n",
       " 'Scottish Terrier',\n",
       " 'Tibetan Terrier',\n",
       " 'Australian Silky Terrier',\n",
       " 'Soft-coated Wheaten Terrier',\n",
       " 'West Highland White Terrier',\n",
       " 'Lhasa Apso',\n",
       " 'Flat-Coated Retriever',\n",
       " 'Curly-coated Retriever',\n",
       " 'Golden Retriever',\n",
       " 'Labrador Retriever',\n",
       " 'Chesapeake Bay Retriever',\n",
       " 'German Shorthaired Pointer',\n",
       " 'Vizsla',\n",
       " 'English Setter',\n",
       " 'Irish Setter',\n",
       " 'Gordon Setter',\n",
       " 'Brittany',\n",
       " 'Clumber Spaniel',\n",
       " 'English Springer Spaniel',\n",
       " 'Welsh Springer Spaniel',\n",
       " 'Cocker Spaniels',\n",
       " 'Sussex Spaniel',\n",
       " 'Irish Water Spaniel',\n",
       " 'Kuvasz',\n",
       " 'Schipperke',\n",
       " 'Groenendael',\n",
       " 'Malinois',\n",
       " 'Briard',\n",
       " 'Australian Kelpie',\n",
       " 'Komondor',\n",
       " 'Old English Sheepdog',\n",
       " 'Shetland Sheepdog',\n",
       " 'collie',\n",
       " 'Border Collie',\n",
       " 'Bouvier des Flandres',\n",
       " 'Rottweiler',\n",
       " 'German Shepherd Dog',\n",
       " 'Dobermann',\n",
       " 'Miniature Pinscher',\n",
       " 'Greater Swiss Mountain Dog',\n",
       " 'Bernese Mountain Dog',\n",
       " 'Appenzeller Sennenhund',\n",
       " 'Entlebucher Sennenhund',\n",
       " 'Boxer',\n",
       " 'Bullmastiff',\n",
       " 'Tibetan Mastiff',\n",
       " 'French Bulldog',\n",
       " 'Great Dane',\n",
       " 'St. Bernard',\n",
       " 'husky',\n",
       " 'Alaskan Malamute',\n",
       " 'Siberian Husky',\n",
       " 'Dalmatian',\n",
       " 'Affenpinscher',\n",
       " 'Basenji',\n",
       " 'pug',\n",
       " 'Leonberger',\n",
       " 'Newfoundland',\n",
       " 'Pyrenean Mountain Dog',\n",
       " 'Samoyed',\n",
       " 'Pomeranian',\n",
       " 'Chow Chow',\n",
       " 'Keeshond',\n",
       " 'Griffon Bruxellois',\n",
       " 'Pembroke Welsh Corgi',\n",
       " 'Cardigan Welsh Corgi',\n",
       " 'Toy Poodle',\n",
       " 'Miniature Poodle',\n",
       " 'Standard Poodle',\n",
       " 'Mexican hairless dog',\n",
       " 'grey wolf',\n",
       " 'Alaskan tundra wolf',\n",
       " 'red wolf',\n",
       " 'coyote',\n",
       " 'dingo',\n",
       " 'dhole',\n",
       " 'African wild dog',\n",
       " 'hyena',\n",
       " 'red fox',\n",
       " 'kit fox',\n",
       " 'Arctic fox',\n",
       " 'grey fox',\n",
       " 'tabby cat',\n",
       " 'tiger cat',\n",
       " 'Persian cat',\n",
       " 'Siamese cat',\n",
       " 'Egyptian Mau',\n",
       " 'cougar',\n",
       " 'lynx',\n",
       " 'leopard',\n",
       " 'snow leopard',\n",
       " 'jaguar',\n",
       " 'lion',\n",
       " 'tiger',\n",
       " 'cheetah',\n",
       " 'brown bear',\n",
       " 'American black bear',\n",
       " 'polar bear',\n",
       " 'sloth bear',\n",
       " 'mongoose',\n",
       " 'meerkat',\n",
       " 'tiger beetle',\n",
       " 'ladybug',\n",
       " 'ground beetle',\n",
       " 'longhorn beetle',\n",
       " 'leaf beetle',\n",
       " 'dung beetle',\n",
       " 'rhinoceros beetle',\n",
       " 'weevil',\n",
       " 'fly',\n",
       " 'bee',\n",
       " 'ant',\n",
       " 'grasshopper',\n",
       " 'cricket',\n",
       " 'stick insect',\n",
       " 'cockroach',\n",
       " 'mantis',\n",
       " 'cicada',\n",
       " 'leafhopper',\n",
       " 'lacewing',\n",
       " 'dragonfly',\n",
       " 'damselfly',\n",
       " 'red admiral',\n",
       " 'ringlet',\n",
       " 'monarch butterfly',\n",
       " 'small white',\n",
       " 'sulphur butterfly',\n",
       " 'gossamer-winged butterfly',\n",
       " 'starfish',\n",
       " 'sea urchin',\n",
       " 'sea cucumber',\n",
       " 'cottontail rabbit',\n",
       " 'hare',\n",
       " 'Angora rabbit',\n",
       " 'hamster',\n",
       " 'porcupine',\n",
       " 'fox squirrel',\n",
       " 'marmot',\n",
       " 'beaver',\n",
       " 'guinea pig',\n",
       " 'common sorrel',\n",
       " 'zebra',\n",
       " 'pig',\n",
       " 'wild boar',\n",
       " 'warthog',\n",
       " 'hippopotamus',\n",
       " 'ox',\n",
       " 'water buffalo',\n",
       " 'bison',\n",
       " 'ram',\n",
       " 'bighorn sheep',\n",
       " 'Alpine ibex',\n",
       " 'hartebeest',\n",
       " 'impala',\n",
       " 'gazelle',\n",
       " 'dromedary',\n",
       " 'llama',\n",
       " 'weasel',\n",
       " 'mink',\n",
       " 'European polecat',\n",
       " 'black-footed ferret',\n",
       " 'otter',\n",
       " 'skunk',\n",
       " 'badger',\n",
       " 'armadillo',\n",
       " 'three-toed sloth',\n",
       " 'orangutan',\n",
       " 'gorilla',\n",
       " 'chimpanzee',\n",
       " 'gibbon',\n",
       " 'siamang',\n",
       " 'guenon',\n",
       " 'patas monkey',\n",
       " 'baboon',\n",
       " 'macaque',\n",
       " 'langur',\n",
       " 'black-and-white colobus',\n",
       " 'proboscis monkey',\n",
       " 'marmoset',\n",
       " 'white-headed capuchin',\n",
       " 'howler monkey',\n",
       " 'titi',\n",
       " \"Geoffroy's spider monkey\",\n",
       " 'common squirrel monkey',\n",
       " 'ring-tailed lemur',\n",
       " 'indri',\n",
       " 'Asian elephant',\n",
       " 'African bush elephant',\n",
       " 'red panda',\n",
       " 'giant panda',\n",
       " 'snoek',\n",
       " 'eel',\n",
       " 'coho salmon',\n",
       " 'rock beauty',\n",
       " 'clownfish',\n",
       " 'sturgeon',\n",
       " 'garfish',\n",
       " 'lionfish',\n",
       " 'pufferfish',\n",
       " 'abacus',\n",
       " 'abaya',\n",
       " 'academic gown',\n",
       " 'accordion',\n",
       " 'acoustic guitar',\n",
       " 'aircraft carrier',\n",
       " 'airliner',\n",
       " 'airship',\n",
       " 'altar',\n",
       " 'ambulance',\n",
       " 'amphibious vehicle',\n",
       " 'analog clock',\n",
       " 'apiary',\n",
       " 'apron',\n",
       " 'waste container',\n",
       " 'assault rifle',\n",
       " 'backpack',\n",
       " 'bakery',\n",
       " 'balance beam',\n",
       " 'balloon',\n",
       " 'ballpoint pen',\n",
       " 'Band-Aid',\n",
       " 'banjo',\n",
       " 'baluster',\n",
       " 'barbell',\n",
       " 'barber chair',\n",
       " 'barbershop',\n",
       " 'barn',\n",
       " 'barometer',\n",
       " 'barrel',\n",
       " 'wheelbarrow',\n",
       " 'baseball',\n",
       " 'basketball',\n",
       " 'bassinet',\n",
       " 'bassoon',\n",
       " 'swimming cap',\n",
       " 'bath towel',\n",
       " 'bathtub',\n",
       " 'station wagon',\n",
       " 'lighthouse',\n",
       " 'beaker',\n",
       " 'military cap',\n",
       " 'beer bottle',\n",
       " 'beer glass',\n",
       " 'bell-cot',\n",
       " 'bib',\n",
       " 'tandem bicycle',\n",
       " 'bikini',\n",
       " 'ring binder',\n",
       " 'binoculars',\n",
       " 'birdhouse',\n",
       " 'boathouse',\n",
       " 'bobsleigh',\n",
       " 'bolo tie',\n",
       " 'poke bonnet',\n",
       " 'bookcase',\n",
       " 'bookstore',\n",
       " 'bottle cap',\n",
       " 'bow',\n",
       " 'bow tie',\n",
       " 'brass',\n",
       " 'bra',\n",
       " 'breakwater',\n",
       " 'breastplate',\n",
       " 'broom',\n",
       " 'bucket',\n",
       " 'buckle',\n",
       " 'bulletproof vest',\n",
       " 'high-speed train',\n",
       " 'butcher shop',\n",
       " 'taxicab',\n",
       " 'cauldron',\n",
       " 'candle',\n",
       " 'cannon',\n",
       " 'canoe',\n",
       " 'can opener',\n",
       " 'cardigan',\n",
       " 'car mirror',\n",
       " 'carousel',\n",
       " 'tool kit',\n",
       " 'carton',\n",
       " 'car wheel',\n",
       " 'automated teller machine',\n",
       " 'cassette',\n",
       " 'cassette player',\n",
       " 'castle',\n",
       " 'catamaran',\n",
       " 'CD player',\n",
       " 'cello',\n",
       " 'mobile phone',\n",
       " 'chain',\n",
       " 'chain-link fence',\n",
       " 'chain mail',\n",
       " 'chainsaw',\n",
       " 'chest',\n",
       " 'chiffonier',\n",
       " 'chime',\n",
       " 'china cabinet',\n",
       " 'Christmas stocking',\n",
       " 'church',\n",
       " 'movie theater',\n",
       " 'cleaver',\n",
       " 'cliff dwelling',\n",
       " 'cloak',\n",
       " 'clogs',\n",
       " 'cocktail shaker',\n",
       " 'coffee mug',\n",
       " 'coffeemaker',\n",
       " 'coil',\n",
       " 'combination lock',\n",
       " 'computer keyboard',\n",
       " 'confectionery store',\n",
       " 'container ship',\n",
       " 'convertible',\n",
       " 'corkscrew',\n",
       " 'cornet',\n",
       " 'cowboy boot',\n",
       " 'cowboy hat',\n",
       " 'cradle',\n",
       " 'crane (machine)',\n",
       " 'crash helmet',\n",
       " 'crate',\n",
       " 'infant bed',\n",
       " 'Crock Pot',\n",
       " 'croquet ball',\n",
       " 'crutch',\n",
       " 'cuirass',\n",
       " 'dam',\n",
       " 'desk',\n",
       " 'desktop computer',\n",
       " 'rotary dial telephone',\n",
       " 'diaper',\n",
       " 'digital clock',\n",
       " 'digital watch',\n",
       " 'dining table',\n",
       " 'dishcloth',\n",
       " 'dishwasher',\n",
       " 'disc brake',\n",
       " 'dock',\n",
       " 'dog sled',\n",
       " 'dome',\n",
       " 'doormat',\n",
       " 'drilling rig',\n",
       " 'drum',\n",
       " 'drumstick',\n",
       " 'dumbbell',\n",
       " 'Dutch oven',\n",
       " 'electric fan',\n",
       " 'electric guitar',\n",
       " 'electric locomotive',\n",
       " 'entertainment center',\n",
       " 'envelope',\n",
       " 'espresso machine',\n",
       " 'face powder',\n",
       " 'feather boa',\n",
       " 'filing cabinet',\n",
       " 'fireboat',\n",
       " 'fire engine',\n",
       " 'fire screen sheet',\n",
       " 'flagpole',\n",
       " 'flute',\n",
       " 'folding chair',\n",
       " 'football helmet',\n",
       " 'forklift',\n",
       " 'fountain',\n",
       " 'fountain pen',\n",
       " 'four-poster bed',\n",
       " 'freight car',\n",
       " 'French horn',\n",
       " 'frying pan',\n",
       " 'fur coat',\n",
       " 'garbage truck',\n",
       " 'gas mask',\n",
       " 'gas pump',\n",
       " 'goblet',\n",
       " 'go-kart',\n",
       " 'golf ball',\n",
       " 'golf cart',\n",
       " 'gondola',\n",
       " 'gong',\n",
       " 'gown',\n",
       " 'grand piano',\n",
       " 'greenhouse',\n",
       " 'grille',\n",
       " 'grocery store',\n",
       " 'guillotine',\n",
       " 'barrette',\n",
       " 'hair spray',\n",
       " 'half-track',\n",
       " 'hammer',\n",
       " 'hamper',\n",
       " 'hair dryer',\n",
       " 'hand-held computer',\n",
       " 'handkerchief',\n",
       " 'hard disk drive',\n",
       " 'harmonica',\n",
       " 'harp',\n",
       " 'harvester',\n",
       " 'hatchet',\n",
       " 'holster',\n",
       " 'home theater',\n",
       " 'honeycomb',\n",
       " 'hook',\n",
       " 'hoop skirt',\n",
       " 'horizontal bar',\n",
       " 'horse-drawn vehicle',\n",
       " 'hourglass',\n",
       " 'iPod',\n",
       " 'clothes iron',\n",
       " \"jack-o'-lantern\",\n",
       " 'jeans',\n",
       " 'jeep',\n",
       " 'T-shirt',\n",
       " 'jigsaw puzzle',\n",
       " 'pulled rickshaw',\n",
       " 'joystick',\n",
       " 'kimono',\n",
       " 'knee pad',\n",
       " 'knot',\n",
       " 'lab coat',\n",
       " 'ladle',\n",
       " 'lampshade',\n",
       " 'laptop computer',\n",
       " 'lawn mower',\n",
       " 'lens cap',\n",
       " 'paper knife',\n",
       " 'library',\n",
       " 'lifeboat',\n",
       " 'lighter',\n",
       " 'limousine',\n",
       " 'ocean liner',\n",
       " 'lipstick',\n",
       " 'slip-on shoe',\n",
       " 'lotion',\n",
       " 'speaker',\n",
       " 'loupe',\n",
       " 'sawmill',\n",
       " 'magnetic compass',\n",
       " 'mail bag',\n",
       " 'mailbox',\n",
       " 'tights',\n",
       " 'tank suit',\n",
       " 'manhole cover',\n",
       " 'maraca',\n",
       " 'marimba',\n",
       " 'mask',\n",
       " 'match',\n",
       " 'maypole',\n",
       " 'maze',\n",
       " 'measuring cup',\n",
       " 'medicine chest',\n",
       " 'megalith',\n",
       " 'microphone',\n",
       " 'microwave oven',\n",
       " 'military uniform',\n",
       " 'milk can',\n",
       " 'minibus',\n",
       " 'miniskirt',\n",
       " 'minivan',\n",
       " 'missile',\n",
       " 'mitten',\n",
       " 'mixing bowl',\n",
       " 'mobile home',\n",
       " 'Model T',\n",
       " 'modem',\n",
       " 'monastery',\n",
       " 'monitor',\n",
       " 'moped',\n",
       " 'mortar',\n",
       " 'square academic cap',\n",
       " 'mosque',\n",
       " 'mosquito net',\n",
       " 'scooter',\n",
       " 'mountain bike',\n",
       " 'tent',\n",
       " 'computer mouse',\n",
       " 'mousetrap',\n",
       " 'moving van',\n",
       " 'muzzle',\n",
       " 'nail',\n",
       " 'neck brace',\n",
       " 'necklace',\n",
       " 'nipple',\n",
       " 'notebook computer',\n",
       " 'obelisk',\n",
       " 'oboe',\n",
       " 'ocarina',\n",
       " 'odometer',\n",
       " 'oil filter',\n",
       " 'organ',\n",
       " 'oscilloscope',\n",
       " 'overskirt',\n",
       " 'bullock cart',\n",
       " 'oxygen mask',\n",
       " 'packet',\n",
       " 'paddle',\n",
       " 'paddle wheel',\n",
       " 'padlock',\n",
       " 'paintbrush',\n",
       " 'pajamas',\n",
       " 'palace',\n",
       " 'pan flute',\n",
       " 'paper towel',\n",
       " 'parachute',\n",
       " 'parallel bars',\n",
       " 'park bench',\n",
       " 'parking meter',\n",
       " 'passenger car',\n",
       " 'patio',\n",
       " 'payphone',\n",
       " 'pedestal',\n",
       " 'pencil case',\n",
       " 'pencil sharpener',\n",
       " 'perfume',\n",
       " 'Petri dish',\n",
       " 'photocopier',\n",
       " 'plectrum',\n",
       " 'Pickelhaube',\n",
       " 'picket fence',\n",
       " 'pickup truck',\n",
       " 'pier',\n",
       " 'piggy bank',\n",
       " 'pill bottle',\n",
       " 'pillow',\n",
       " 'ping-pong ball',\n",
       " 'pinwheel',\n",
       " 'pirate ship',\n",
       " 'pitcher',\n",
       " 'hand plane',\n",
       " 'planetarium',\n",
       " 'plastic bag',\n",
       " 'plate rack',\n",
       " 'plow',\n",
       " 'plunger',\n",
       " 'Polaroid camera',\n",
       " 'pole',\n",
       " 'police van',\n",
       " 'poncho',\n",
       " 'billiard table',\n",
       " 'soda bottle',\n",
       " 'pot',\n",
       " \"potter's wheel\",\n",
       " 'power drill',\n",
       " 'prayer rug',\n",
       " 'printer',\n",
       " 'prison',\n",
       " 'projectile',\n",
       " 'projector',\n",
       " 'hockey puck',\n",
       " 'punching bag',\n",
       " 'purse',\n",
       " 'quill',\n",
       " 'quilt',\n",
       " 'race car',\n",
       " 'racket',\n",
       " 'radiator',\n",
       " 'radio',\n",
       " 'radio telescope',\n",
       " 'rain barrel',\n",
       " 'recreational vehicle',\n",
       " 'reel',\n",
       " 'reflex camera',\n",
       " 'refrigerator',\n",
       " 'remote control',\n",
       " 'restaurant',\n",
       " 'revolver',\n",
       " 'rifle',\n",
       " 'rocking chair',\n",
       " 'rotisserie',\n",
       " 'eraser',\n",
       " 'rugby ball',\n",
       " 'ruler',\n",
       " 'running shoe',\n",
       " 'safe',\n",
       " 'safety pin',\n",
       " 'salt shaker',\n",
       " 'sandal',\n",
       " 'sarong',\n",
       " 'saxophone',\n",
       " 'scabbard',\n",
       " 'weighing scale',\n",
       " 'school bus',\n",
       " 'schooner',\n",
       " 'scoreboard',\n",
       " 'CRT screen',\n",
       " 'screw',\n",
       " 'screwdriver',\n",
       " 'seat belt',\n",
       " 'sewing machine',\n",
       " 'shield',\n",
       " 'shoe store',\n",
       " 'shoji',\n",
       " 'shopping basket',\n",
       " 'shopping cart',\n",
       " 'shovel',\n",
       " 'shower cap',\n",
       " 'shower curtain',\n",
       " 'ski',\n",
       " 'ski mask',\n",
       " 'sleeping bag',\n",
       " 'slide rule',\n",
       " 'sliding door',\n",
       " 'slot machine',\n",
       " 'snorkel',\n",
       " 'snowmobile',\n",
       " 'snowplow',\n",
       " 'soap dispenser',\n",
       " 'soccer ball',\n",
       " 'sock',\n",
       " 'solar thermal collector',\n",
       " 'sombrero',\n",
       " 'soup bowl',\n",
       " 'space bar',\n",
       " 'space heater',\n",
       " 'space shuttle',\n",
       " 'spatula',\n",
       " 'motorboat',\n",
       " 'spider web',\n",
       " 'spindle',\n",
       " 'sports car',\n",
       " 'spotlight',\n",
       " 'stage',\n",
       " 'steam locomotive',\n",
       " 'through arch bridge',\n",
       " 'steel drum',\n",
       " 'stethoscope',\n",
       " 'scarf',\n",
       " 'stone wall',\n",
       " 'stopwatch',\n",
       " 'stove',\n",
       " 'strainer',\n",
       " 'tram',\n",
       " 'stretcher',\n",
       " 'couch',\n",
       " 'stupa',\n",
       " 'submarine',\n",
       " 'suit',\n",
       " 'sundial',\n",
       " 'sunglass',\n",
       " 'sunglasses',\n",
       " 'sunscreen',\n",
       " 'suspension bridge',\n",
       " 'mop',\n",
       " 'sweatshirt',\n",
       " 'swimsuit',\n",
       " 'swing',\n",
       " 'switch',\n",
       " 'syringe',\n",
       " 'table lamp',\n",
       " 'tank',\n",
       " 'tape player',\n",
       " 'teapot',\n",
       " 'teddy bear',\n",
       " 'television',\n",
       " 'tennis ball',\n",
       " 'thatched roof',\n",
       " 'front curtain',\n",
       " 'thimble',\n",
       " 'threshing machine',\n",
       " 'throne',\n",
       " 'tile roof',\n",
       " 'toaster',\n",
       " 'tobacco shop',\n",
       " 'toilet seat',\n",
       " 'torch',\n",
       " 'totem pole',\n",
       " 'tow truck',\n",
       " 'toy store',\n",
       " 'tractor',\n",
       " 'semi-trailer truck',\n",
       " 'tray',\n",
       " 'trench coat',\n",
       " 'tricycle',\n",
       " 'trimaran',\n",
       " 'tripod',\n",
       " 'triumphal arch',\n",
       " 'trolleybus',\n",
       " 'trombone',\n",
       " 'tub',\n",
       " 'turnstile',\n",
       " 'typewriter keyboard',\n",
       " 'umbrella',\n",
       " 'unicycle',\n",
       " 'upright piano',\n",
       " 'vacuum cleaner',\n",
       " 'vase',\n",
       " 'vault',\n",
       " 'velvet',\n",
       " 'vending machine',\n",
       " 'vestment',\n",
       " 'viaduct',\n",
       " 'violin',\n",
       " 'volleyball',\n",
       " 'waffle iron',\n",
       " 'wall clock',\n",
       " 'wallet',\n",
       " 'wardrobe',\n",
       " 'military aircraft',\n",
       " 'sink',\n",
       " 'washing machine',\n",
       " 'water bottle',\n",
       " 'water jug',\n",
       " 'water tower',\n",
       " 'whiskey jug',\n",
       " 'whistle',\n",
       " 'wig',\n",
       " 'window screen',\n",
       " 'window shade',\n",
       " 'Windsor tie',\n",
       " 'wine bottle',\n",
       " 'wing',\n",
       " 'wok',\n",
       " 'wooden spoon',\n",
       " 'wool',\n",
       " 'split-rail fence',\n",
       " 'shipwreck',\n",
       " 'yawl',\n",
       " 'yurt',\n",
       " 'website',\n",
       " 'comic book',\n",
       " 'crossword',\n",
       " 'traffic sign',\n",
       " 'traffic light',\n",
       " 'dust jacket',\n",
       " 'menu',\n",
       " 'plate',\n",
       " 'guacamole',\n",
       " 'consomme',\n",
       " 'hot pot',\n",
       " 'trifle',\n",
       " 'ice cream',\n",
       " 'ice pop',\n",
       " 'baguette',\n",
       " 'bagel',\n",
       " 'pretzel',\n",
       " 'cheeseburger',\n",
       " 'hot dog',\n",
       " 'mashed potato',\n",
       " 'cabbage',\n",
       " 'broccoli',\n",
       " 'cauliflower',\n",
       " 'zucchini',\n",
       " 'spaghetti squash',\n",
       " 'acorn squash',\n",
       " 'butternut squash',\n",
       " 'cucumber',\n",
       " 'artichoke',\n",
       " 'bell pepper',\n",
       " 'cardoon',\n",
       " 'mushroom',\n",
       " 'Granny Smith',\n",
       " 'strawberry',\n",
       " 'orange',\n",
       " 'lemon',\n",
       " 'fig',\n",
       " 'pineapple',\n",
       " 'banana',\n",
       " 'jackfruit',\n",
       " 'custard apple',\n",
       " 'pomegranate',\n",
       " 'hay',\n",
       " 'carbonara',\n",
       " 'chocolate syrup',\n",
       " 'dough',\n",
       " 'meatloaf',\n",
       " 'pizza',\n",
       " 'pot pie',\n",
       " 'burrito',\n",
       " 'red wine',\n",
       " 'espresso',\n",
       " 'cup',\n",
       " 'eggnog',\n",
       " 'alp',\n",
       " 'bubble',\n",
       " 'cliff',\n",
       " 'coral reef',\n",
       " 'geyser',\n",
       " 'lakeshore',\n",
       " 'promontory',\n",
       " 'shoal',\n",
       " 'seashore',\n",
       " 'valley',\n",
       " 'volcano',\n",
       " 'baseball player',\n",
       " 'bridegroom',\n",
       " 'scuba diver',\n",
       " 'rapeseed',\n",
       " 'daisy',\n",
       " \"yellow lady's slipper\",\n",
       " 'corn',\n",
       " 'acorn',\n",
       " 'rose hip',\n",
       " 'horse chestnut seed',\n",
       " 'coral fungus',\n",
       " 'agaric',\n",
       " 'gyromitra',\n",
       " 'stinkhorn mushroom',\n",
       " 'earth star',\n",
       " 'hen-of-the-woods',\n",
       " 'bolete',\n",
       " 'ear',\n",
       " 'toilet paper']"
      ]
     },
     "execution_count": 9,
     "metadata": {},
     "output_type": "execute_result"
    }
   ],
   "source": [
    "class_names"
   ]
  },
  {
   "cell_type": "code",
   "execution_count": 12,
   "metadata": {},
   "outputs": [],
   "source": [
    "with open('data/ImageNet_LT_train.json', 'rb') as f:\n",
    "    train_data = json.load(f)"
   ]
  },
  {
   "cell_type": "code",
   "execution_count": 17,
   "metadata": {},
   "outputs": [],
   "source": [
    "img  = Image.open(train_data['annotations'][0]['fpath'])\n"
   ]
  },
  {
   "cell_type": "code",
   "execution_count": 21,
   "metadata": {},
   "outputs": [
    {
     "data": {
      "image/png": "[encoded data removed]",
      "text/plain": [
       "<PIL.Image.Image image mode=RGB size=80x60 at 0x2AEA79E31370>"
      ]
     },
     "execution_count": 21,
     "metadata": {},
     "output_type": "execute_result"
    }
   ],
   "source": [
    "img.convert('RGB')"
   ]
  },
  {
   "cell_type": "code",
   "execution_count": 24,
   "metadata": {},
   "outputs": [],
   "source": [
    "img_np = np.array(img)"
   ]
  },
  {
   "cell_type": "code",
   "execution_count": 26,
   "metadata": {},
   "outputs": [
    {
     "data": {
      "text/plain": [
       "(60, 80, 3)"
      ]
     },
     "execution_count": 26,
     "metadata": {},
     "output_type": "execute_result"
    }
   ],
   "source": [
    "img_np.shape"
   ]
  },
  {
   "cell_type": "code",
   "execution_count": 33,
   "metadata": {},
   "outputs": [
    {
     "data": {
      "application/vnd.jupyter.widget-view+json": {
       "model_id": "63621deabc1f478ababbca62697f4d55",
       "version_major": 2,
       "version_minor": 0
      },
      "text/plain": [
       "HBox(children=(HTML(value=''), FloatProgress(value=0.0, max=115846.0), HTML(value='')))"
      ]
     },
     "metadata": {},
     "output_type": "display_data"
    },
    {
     "name": "stdout",
     "output_type": "stream",
     "text": [
      "\n"
     ]
    }
   ],
   "source": [
    "imgs = []\n",
    "paths = []\n",
    "for i in tqdm(range(len(train_data['annotations']))):\n",
    "    img = Image.open(train_data['annotations'][i]['fpath'])\n",
    "    img_np = np.array(img)\n",
    "    if len(img_np.shape) < 3:\n",
    "        imgs.append(img)\n",
    "        paths.append(train_data['annotations'][i])\n",
    "        break"
   ]
  },
  {
   "cell_type": "code",
   "execution_count": 35,
   "metadata": {},
   "outputs": [],
   "source": [
    "img = imgs[0]"
   ]
  },
  {
   "cell_type": "code",
   "execution_count": 42,
   "metadata": {},
   "outputs": [],
   "source": [
    "img_rgb = img.convert('RGB')"
   ]
  },
  {
   "cell_type": "code",
   "execution_count": 44,
   "metadata": {},
   "outputs": [],
   "source": [
    "img_np = np.array(img_rgb)"
   ]
  },
  {
   "cell_type": "code",
   "execution_count": 45,
   "metadata": {},
   "outputs": [
    {
     "data": {
      "text/plain": [
       "(335, 500, 3)"
      ]
     },
     "execution_count": 45,
     "metadata": {},
     "output_type": "execute_result"
    }
   ],
   "source": [
    "img_np.shape"
   ]
  },
  {
   "cell_type": "code",
   "execution_count": 46,
   "metadata": {},
   "outputs": [
    {
     "data": {
      "text/plain": [
       "<matplotlib.image.AxesImage at 0x2aea8a180c40>"
      ]
     },
     "execution_count": 46,
     "metadata": {},
     "output_type": "execute_result"
    },
    {
     "data": {
      "image/png": "[encoded data removed]",
      "text/plain": [
       "<Figure size 432x288 with 1 Axes>"
      ]
     },
     "metadata": {
      "needs_background": "light"
     },
     "output_type": "display_data"
    }
   ],
   "source": [
    "plt.imshow(img_np)"
   ]
  },
  {
   "cell_type": "code",
   "execution_count": 11,
   "metadata": {},
   "outputs": [
    {
     "data": {
      "text/plain": [
       "dict_keys(['annotations', 'num_classes'])"
      ]
     },
     "execution_count": 11,
     "metadata": {},
     "output_type": "execute_result"
    }
   ],
   "source": [
    "train_data.keys()"
   ]
  },
  {
   "cell_type": "code",
   "execution_count": 9,
   "metadata": {},
   "outputs": [
    {
     "data": {
      "text/plain": [
       "115846"
      ]
     },
     "execution_count": 9,
     "metadata": {},
     "output_type": "execute_result"
    }
   ],
   "source": [
    "len(train_data['annotations'])"
   ]
  },
  {
   "cell_type": "code",
   "execution_count": 13,
   "metadata": {},
   "outputs": [
    {
     "data": {
      "text/plain": [
       "{'image_id': 0,\n",
       " 'category_id': 0,\n",
       " 'fpath': '/datasets/ImageNet/ILSVRC/Data/CLS-LOC/train/n01440764/n01440764_190.JPEG'}"
      ]
     },
     "execution_count": 13,
     "metadata": {},
     "output_type": "execute_result"
    }
   ],
   "source": [
    "train_data['annotations'][0]"
   ]
  },
  {
   "cell_type": "code",
   "execution_count": 10,
   "metadata": {},
   "outputs": [],
   "source": [
    "with open('data/ImageNet_LT_val.json', 'rb') as f:\n",
    "    valid_data = json.load(f)"
   ]
  },
  {
   "cell_type": "code",
   "execution_count": 11,
   "metadata": {},
   "outputs": [
    {
     "data": {
      "text/plain": [
       "50000"
      ]
     },
     "execution_count": 11,
     "metadata": {},
     "output_type": "execute_result"
    }
   ],
   "source": [
    "len(valid_data['annotations'])"
   ]
  },
  {
   "cell_type": "code",
   "execution_count": 57,
   "metadata": {},
   "outputs": [],
   "source": [
    "import json\n",
    "import numpy as np\n",
    "from PIL import Image\n",
    "from torch.utils.data import Dataset\n",
    "\n",
    "\n",
    "class ImageNetLTDataset(Dataset):\n",
    "    \n",
    "    train_data_info_path = 'data/ImageNet_LT_train.json'\n",
    "    valid_data_info_path = 'data/ImageNet_LT_val.json'\n",
    "    \n",
    "    def __init__(self, mode='train', transforms=None):\n",
    "        \n",
    "        self.transforms = transforms\n",
    "        self.data_info_path = self.train_data_info_path if mode == 'train' else self.valid_data_info_path\n",
    "        \n",
    "        with open(self.data_info_path, 'rb') as f:\n",
    "            data_info = json.load(f)\n",
    "            \n",
    "        self.num_classes = data_info['num_classes']\n",
    "        self.annotations = data_info['annotations']\n",
    "        self.data_size = len(self.annotations)\n",
    "        \n",
    "        per_class_frequency = np.zeros(self.num_classes)\n",
    "        \n",
    "        for a in self.annotations:\n",
    "            label = a['category_id']\n",
    "            per_class_frequency[label] += 1\n",
    "            \n",
    "        self.per_class_frequency = per_class_frequency\n",
    "        \n",
    "        ordered_classes = [(i, val) for i, val in enumerate(self.per_class_frequency)]\n",
    "        ordered_classes.sort(key=lambda x: -x[1])\n",
    "        self.ordered_classes = np.array([i  for (i, val) in ordered_classes])\n",
    "    \n",
    "    def __len__(self):\n",
    "        return self.data_size\n",
    "    \n",
    "    def __getitem__(self, index):\n",
    "        \n",
    "        img_path = self.annotations[index]['fpath']\n",
    "        label = self.annotations[index]['category_id']\n",
    "        img = Image.open(img_path)\n",
    "        \n",
    "        if self.transforms:\n",
    "            img = self.transforms(img)\n",
    "            \n",
    "        return img, label\n",
    "        "
   ]
  },
  {
   "cell_type": "code",
   "execution_count": 49,
   "metadata": {},
   "outputs": [],
   "source": [
    "import matplotlib.pyplot as plt\n",
    "from torchvision import transforms"
   ]
  },
  {
   "cell_type": "code",
   "execution_count": 50,
   "metadata": {},
   "outputs": [],
   "source": [
    "train_transforms = transforms.Compose([\n",
    "    transforms.RandAugment(num_ops=2, magnitude=10),\n",
    "    transforms.Resize((224, 224)),\n",
    "    transforms.ToTensor()\n",
    "])"
   ]
  },
  {
   "cell_type": "code",
   "execution_count": 58,
   "metadata": {},
   "outputs": [],
   "source": [
    "train_dataset = ImageNetLTDataset(mode='train', transforms=train_transforms)"
   ]
  },
  {
   "cell_type": "code",
   "execution_count": 24,
   "metadata": {},
   "outputs": [],
   "source": [
    "img, label = train_dataset[20000]"
   ]
  },
  {
   "cell_type": "code",
   "execution_count": 18,
   "metadata": {},
   "outputs": [
    {
     "data": {
      "text/plain": [
       "(torch.Size([3, 224, 224]), 160)"
      ]
     },
     "execution_count": 18,
     "metadata": {},
     "output_type": "execute_result"
    }
   ],
   "source": [
    "img.shape, label"
   ]
  },
  {
   "cell_type": "code",
   "execution_count": 19,
   "metadata": {},
   "outputs": [
    {
     "data": {
      "text/plain": [
       "<matplotlib.image.AxesImage at 0x2ad5c837c610>"
      ]
     },
     "execution_count": 19,
     "metadata": {},
     "output_type": "execute_result"
    },
    {
     "data": {
      "image/png": "[encoded data removed]",
      "text/plain": [
       "<Figure size 432x288 with 1 Axes>"
      ]
     },
     "metadata": {
      "needs_background": "light"
     },
     "output_type": "display_data"
    }
   ],
   "source": [
    "plt.imshow(img.permute(1, 2, 0))"
   ]
  },
  {
   "cell_type": "code",
   "execution_count": 52,
   "metadata": {},
   "outputs": [],
   "source": [
    "per_class_frequency = train_dataset.per_class_frequency"
   ]
  },
  {
   "cell_type": "code",
   "execution_count": 32,
   "metadata": {},
   "outputs": [
    {
     "data": {
      "text/plain": [
       "<BarContainer object of 1000 artists>"
      ]
     },
     "execution_count": 32,
     "metadata": {},
     "output_type": "execute_result"
    },
    {
     "data": {
      "image/png": "[encoded data removed]",
      "text/plain": [
       "<Figure size 432x288 with 1 Axes>"
      ]
     },
     "metadata": {
      "needs_background": "light"
     },
     "output_type": "display_data"
    }
   ],
   "source": [
    "plt.bar(np.arange(1000), np.sort(per_class_frequency))"
   ]
  },
  {
   "cell_type": "code",
   "execution_count": 34,
   "metadata": {},
   "outputs": [
    {
     "data": {
      "text/plain": [
       "array([0., 0., 0., 0., 0., 0., 0., 0., 0., 0.])"
      ]
     },
     "execution_count": 34,
     "metadata": {},
     "output_type": "execute_result"
    }
   ],
   "source": [
    "np.array(np.array(np.zeros(10)))"
   ]
  },
  {
   "cell_type": "code",
   "execution_count": 59,
   "metadata": {},
   "outputs": [],
   "source": [
    "ordered_classes = train_dataset.ordered_classes"
   ]
  },
  {
   "cell_type": "code",
   "execution_count": 70,
   "metadata": {},
   "outputs": [],
   "source": [
    "cal = per_class_frequency[ordered_classes]"
   ]
  },
  {
   "cell_type": "code",
   "execution_count": 73,
   "metadata": {},
   "outputs": [
    {
     "data": {
      "text/plain": [
       "5.0"
      ]
     },
     "execution_count": 73,
     "metadata": {},
     "output_type": "execute_result"
    }
   ],
   "source": [
    "cal.min()"
   ]
  },
  {
   "cell_type": "code",
   "execution_count": 74,
   "metadata": {},
   "outputs": [
    {
     "data": {
      "text/plain": [
       "1000"
      ]
     },
     "execution_count": 74,
     "metadata": {},
     "output_type": "execute_result"
    }
   ],
   "source": [
    "len(cal)"
   ]
  },
  {
   "cell_type": "code",
   "execution_count": 75,
   "metadata": {},
   "outputs": [
    {
     "data": {
      "text/plain": [
       "<BarContainer object of 1000 artists>"
      ]
     },
     "execution_count": 75,
     "metadata": {},
     "output_type": "execute_result"
    },
    {
     "data": {
      "image/png": "[encoded data removed]",
      "text/plain": [
       "<Figure size 720x720 with 1 Axes>"
      ]
     },
     "metadata": {
      "needs_background": "light"
     },
     "output_type": "display_data"
    }
   ],
   "source": [
    "plt.figure(figsize=(10, 10))\n",
    "plt.bar(np.arange(1000), cal)"
   ]
  },
  {
   "cell_type": "code",
   "execution_count": 66,
   "metadata": {},
   "outputs": [
    {
     "data": {
      "text/plain": [
       "1000"
      ]
     },
     "execution_count": 66,
     "metadata": {},
     "output_type": "execute_result"
    }
   ],
   "source": [
    "len(np.unique(ordered_classes))"
   ]
  },
  {
   "cell_type": "code",
   "execution_count": 68,
   "metadata": {},
   "outputs": [
    {
     "data": {
      "text/plain": [
       "999"
      ]
     },
     "execution_count": 68,
     "metadata": {},
     "output_type": "execute_result"
    }
   ],
   "source": [
    "ordered_classes.max()"
   ]
  },
  {
   "cell_type": "code",
   "execution_count": 63,
   "metadata": {},
   "outputs": [
    {
     "data": {
      "text/plain": [
       "1280.0"
      ]
     },
     "execution_count": 63,
     "metadata": {},
     "output_type": "execute_result"
    }
   ],
   "source": [
    "per_class_frequency.max()"
   ]
  }
 ],
 "metadata": {
  "kernelspec": {
   "display_name": "nazir_env",
   "language": "python",
   "name": "nazir_env"
  },
  "language_info": {
   "codemirror_mode": {
    "name": "ipython",
    "version": 3
   },
   "file_extension": ".py",
   "mimetype": "text/x-python",
   "name": "python",
   "nbconvert_exporter": "python",
   "pygments_lexer": "ipython3",
   "version": "3.8.5"
  }
 },
 "nbformat": 4,
 "nbformat_minor": 4
}
