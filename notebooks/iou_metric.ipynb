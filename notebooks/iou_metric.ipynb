{
 "cells": [
  {
   "cell_type": "code",
   "execution_count": 1,
   "id": "b9db244a",
   "metadata": {},
   "outputs": [
    {
     "data": {
      "text/plain": [
       "'/media/nazirnayal/DATA/projects/attention_long_tail/paying-attention-to-the-long-tail'"
      ]
     },
     "execution_count": 1,
     "metadata": {},
     "output_type": "execute_result"
    }
   ],
   "source": [
    "import os\n",
    "os.chdir('../')\n",
    "os.getcwd()"
   ]
  },
  {
   "cell_type": "code",
   "execution_count": 2,
   "id": "d990ffea",
   "metadata": {},
   "outputs": [
    {
     "ename": "ImportError",
     "evalue": "cannot import name 'JaccardIndex' from 'torchmetrics' (/home/nazirnayal/anaconda3/envs/nazir_env/lib/python3.8/site-packages/torchmetrics/__init__.py)",
     "output_type": "error",
     "traceback": [
      "\u001b[0;31m---------------------------------------------------------------------------\u001b[0m",
      "\u001b[0;31mImportError\u001b[0m                               Traceback (most recent call last)",
      "\u001b[0;32m<ipython-input-2-a1beffe9eb11>\u001b[0m in \u001b[0;36m<module>\u001b[0;34m\u001b[0m\n\u001b[1;32m      1\u001b[0m \u001b[0;32mimport\u001b[0m \u001b[0mtorch\u001b[0m\u001b[0;34m\u001b[0m\u001b[0;34m\u001b[0m\u001b[0m\n\u001b[0;32m----> 2\u001b[0;31m \u001b[0;32mfrom\u001b[0m \u001b[0mtorchmetrics\u001b[0m \u001b[0;32mimport\u001b[0m \u001b[0mJaccardIndex\u001b[0m\u001b[0;34m\u001b[0m\u001b[0;34m\u001b[0m\u001b[0m\n\u001b[0m\u001b[1;32m      3\u001b[0m \u001b[0;32mfrom\u001b[0m \u001b[0mmetrics\u001b[0m\u001b[0;34m.\u001b[0m\u001b[0msegmentation\u001b[0m \u001b[0;32mimport\u001b[0m \u001b[0;34m*\u001b[0m\u001b[0;34m\u001b[0m\u001b[0;34m\u001b[0m\u001b[0m\n",
      "\u001b[0;31mImportError\u001b[0m: cannot import name 'JaccardIndex' from 'torchmetrics' (/home/nazirnayal/anaconda3/envs/nazir_env/lib/python3.8/site-packages/torchmetrics/__init__.py)"
     ]
    }
   ],
   "source": [
    "import torch\n",
    "from torchmetrics import JaccardIndex\n",
    "from metrics.segmentation import *"
   ]
  },
  {
   "cell_type": "code",
   "execution_count": 7,
   "id": "34dcdba8",
   "metadata": {},
   "outputs": [
    {
     "data": {
      "text/plain": [
       "['functional',\n",
       " 'Accuracy',\n",
       " 'AUC',\n",
       " 'AUROC',\n",
       " 'AveragePrecision',\n",
       " 'BinnedAveragePrecision',\n",
       " 'BinnedPrecisionRecallCurve',\n",
       " 'BinnedRecallAtFixedPrecision',\n",
       " 'BERTScore',\n",
       " 'BLEUScore',\n",
       " 'BootStrapper',\n",
       " 'CalibrationError',\n",
       " 'CatMetric',\n",
       " 'CohenKappa',\n",
       " 'ConfusionMatrix',\n",
       " 'CosineSimilarity',\n",
       " 'TweedieDevianceScore',\n",
       " 'ExplainedVariance',\n",
       " 'F1',\n",
       " 'FBeta',\n",
       " 'FID',\n",
       " 'HammingDistance',\n",
       " 'Hinge',\n",
       " 'IoU',\n",
       " 'IS',\n",
       " 'KID',\n",
       " 'KLDivergence',\n",
       " 'LPIPS',\n",
       " 'MAP',\n",
       " 'MatthewsCorrcoef',\n",
       " 'MaxMetric',\n",
       " 'MeanAbsoluteError',\n",
       " 'MeanAbsolutePercentageError',\n",
       " 'MeanMetric',\n",
       " 'MeanSquaredError',\n",
       " 'MeanSquaredLogError',\n",
       " 'Metric',\n",
       " 'MetricCollection',\n",
       " 'MetricTracker',\n",
       " 'MinMetric',\n",
       " 'MultioutputWrapper',\n",
       " 'PearsonCorrcoef',\n",
       " 'PESQ',\n",
       " 'PIT',\n",
       " 'Precision',\n",
       " 'PrecisionRecallCurve',\n",
       " 'PSNR',\n",
       " 'R2Score',\n",
       " 'Recall',\n",
       " 'RetrievalFallOut',\n",
       " 'RetrievalHitRate',\n",
       " 'RetrievalMAP',\n",
       " 'RetrievalMRR',\n",
       " 'RetrievalNormalizedDCG',\n",
       " 'RetrievalPrecision',\n",
       " 'RetrievalRecall',\n",
       " 'RetrievalRPrecision',\n",
       " 'ROC',\n",
       " 'ROUGEScore',\n",
       " 'SacreBLEUScore',\n",
       " 'SI_SDR',\n",
       " 'SI_SNR',\n",
       " 'SNR',\n",
       " 'SpearmanCorrcoef',\n",
       " 'Specificity',\n",
       " 'SSIM',\n",
       " 'StatScores',\n",
       " 'STOI',\n",
       " 'SumMetric',\n",
       " 'SymmetricMeanAbsolutePercentageError',\n",
       " 'WER',\n",
       " 'CharErrorRate']"
      ]
     },
     "execution_count": 7,
     "metadata": {},
     "output_type": "execute_result"
    }
   ],
   "source": [
    "torchmetrics.__all__"
   ]
  }
 ],
 "metadata": {
  "kernelspec": {
   "display_name": "nazir_env",
   "language": "python",
   "name": "nazir_env"
  },
  "language_info": {
   "codemirror_mode": {
    "name": "ipython",
    "version": 3
   },
   "file_extension": ".py",
   "mimetype": "text/x-python",
   "name": "python",
   "nbconvert_exporter": "python",
   "pygments_lexer": "ipython3",
   "version": "3.8.12"
  }
 },
 "nbformat": 4,
 "nbformat_minor": 5
}
