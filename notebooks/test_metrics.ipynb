{
 "cells": [
  {
   "cell_type": "code",
   "execution_count": 1,
   "id": "a8c56baa",
   "metadata": {},
   "outputs": [
    {
     "data": {
      "text/plain": [
       "'/media/nazirnayal/DATA/projects/attention_long_tail/paying-attention-to-the-long-tail'"
      ]
     },
     "execution_count": 1,
     "metadata": {},
     "output_type": "execute_result"
    }
   ],
   "source": [
    "import os\n",
    "os.chdir('../')\n",
    "os.getcwd()"
   ]
  },
  {
   "cell_type": "code",
   "execution_count": 2,
   "id": "c9bb69bf",
   "metadata": {},
   "outputs": [],
   "source": [
    "%load_ext autoreload\n",
    "%autoreload 2"
   ]
  },
  {
   "cell_type": "code",
   "execution_count": 3,
   "id": "9b12b43b",
   "metadata": {},
   "outputs": [],
   "source": [
    "import torch\n",
    "import numpy as np"
   ]
  },
  {
   "cell_type": "code",
   "execution_count": 4,
   "id": "af92983c",
   "metadata": {},
   "outputs": [],
   "source": [
    "a = np.array([1, 1, 1, 2, 2, 3, 3, 4, 4, 5, 5, 6, 6, 7, 8])"
   ]
  },
  {
   "cell_type": "code",
   "execution_count": 5,
   "id": "fc9d730d",
   "metadata": {},
   "outputs": [
    {
     "data": {
      "text/plain": [
       "(array([ 0,  1,  2,  5,  6,  9, 10]),)"
      ]
     },
     "execution_count": 5,
     "metadata": {},
     "output_type": "execute_result"
    }
   ],
   "source": [
    "np.where(np.isin(a, [1, 3, 5]))"
   ]
  },
  {
   "cell_type": "markdown",
   "id": "4843dc86",
   "metadata": {},
   "source": [
    "# General Setup"
   ]
  },
  {
   "cell_type": "code",
   "execution_count": 30,
   "id": "df32d9b7",
   "metadata": {},
   "outputs": [],
   "source": [
    "few_shot_classes = [0, 1, 2]\n",
    "medium_shot_classes = [3, 4, 5]\n",
    "many_shot_classes = [6, 7, 8]\n",
    "\n",
    "targets = [0, 0, 0, 1, 1, 1, 2, 2, 2, 3, 3, 3, 4, 4, 4, 5, 5, 5, 6, 6, 6, 7, 7, 7, 8, 8, 8]\n",
    "output  = [0, 1, 2, 1, 3, 4, 2, 5, 6, 3, 3, 1, 8, 4, 4, 5, 3, 2, 6, 7, 1, 7, 2, 4, 8, 0, 5]\n",
    "\n",
    "targets = torch.Tensor(targets)\n",
    "output = torch.Tensor(output)\n",
    "\n",
    "logits = torch.randn((len(targets), 9))"
   ]
  },
  {
   "cell_type": "markdown",
   "id": "73d63a7f",
   "metadata": {},
   "source": [
    "# Test KShot Accuracy"
   ]
  },
  {
   "cell_type": "code",
   "execution_count": 17,
   "id": "e1d084e0",
   "metadata": {},
   "outputs": [],
   "source": [
    "from metrics.classification import KShotAccuracy"
   ]
  },
  {
   "cell_type": "code",
   "execution_count": 29,
   "id": "14c516ec",
   "metadata": {},
   "outputs": [],
   "source": [
    "kshot_acc = KShotAccuracy(few_shot_classes, medium_shot_classes, many_shot_classes)"
   ]
  },
  {
   "cell_type": "code",
   "execution_count": 31,
   "id": "68d485bd",
   "metadata": {},
   "outputs": [
    {
     "data": {
      "text/plain": [
       "(tensor(0.3333), tensor(0.5556), tensor(0.3333))"
      ]
     },
     "execution_count": 31,
     "metadata": {},
     "output_type": "execute_result"
    }
   ],
   "source": [
    "kshot_acc(output, targets)"
   ]
  },
  {
   "cell_type": "code",
   "execution_count": 32,
   "id": "811c25e6",
   "metadata": {},
   "outputs": [
    {
     "data": {
      "text/plain": [
       "(tensor(0.3333), tensor(0.5556), tensor(0.3333))"
      ]
     },
     "execution_count": 32,
     "metadata": {},
     "output_type": "execute_result"
    }
   ],
   "source": [
    "kshot_acc.compute()"
   ]
  },
  {
   "cell_type": "markdown",
   "id": "5d1776a5",
   "metadata": {},
   "source": [
    "# Test KShot Precision"
   ]
  },
  {
   "cell_type": "code",
   "execution_count": 33,
   "id": "8466aa7b",
   "metadata": {},
   "outputs": [],
   "source": [
    "from metrics.classification import KShotPrecision"
   ]
  },
  {
   "cell_type": "code",
   "execution_count": 31,
   "id": "7f60505d",
   "metadata": {},
   "outputs": [
    {
     "ename": "NameError",
     "evalue": "name 'KShotPrecision' is not defined",
     "output_type": "error",
     "traceback": [
      "\u001b[0;31m---------------------------------------------------------------------------\u001b[0m",
      "\u001b[0;31mNameError\u001b[0m                                 Traceback (most recent call last)",
      "\u001b[0;32m<ipython-input-31-2e1f63868a55>\u001b[0m in \u001b[0;36m<module>\u001b[0;34m\u001b[0m\n\u001b[0;32m----> 1\u001b[0;31m \u001b[0mkshot_precision\u001b[0m \u001b[0;34m=\u001b[0m \u001b[0mKShotPrecision\u001b[0m\u001b[0;34m(\u001b[0m\u001b[0mfew_shot_classes\u001b[0m\u001b[0;34m,\u001b[0m \u001b[0mmedium_shot_classes\u001b[0m\u001b[0;34m,\u001b[0m \u001b[0mmany_shot_classes\u001b[0m\u001b[0;34m)\u001b[0m\u001b[0;34m\u001b[0m\u001b[0;34m\u001b[0m\u001b[0m\n\u001b[0m",
      "\u001b[0;31mNameError\u001b[0m: name 'KShotPrecision' is not defined"
     ]
    }
   ],
   "source": [
    "kshot_precision = KShotPrecision(few_shot_classes, medium_shot_classes, many_shot_classes)"
   ]
  },
  {
   "cell_type": "code",
   "execution_count": 36,
   "id": "a33cbca7",
   "metadata": {},
   "outputs": [
    {
     "data": {
      "text/plain": [
       "(tensor(0.3000), tensor(0.4545), tensor(0.5000))"
      ]
     },
     "execution_count": 36,
     "metadata": {},
     "output_type": "execute_result"
    }
   ],
   "source": [
    "kshot_precision(output, targets)"
   ]
  },
  {
   "cell_type": "code",
   "execution_count": 37,
   "id": "ef4aa1a0",
   "metadata": {},
   "outputs": [
    {
     "data": {
      "text/plain": [
       "(tensor(0.3000), tensor(0.4545), tensor(0.5000))"
      ]
     },
     "execution_count": 37,
     "metadata": {},
     "output_type": "execute_result"
    }
   ],
   "source": [
    "kshot_precision.compute()"
   ]
  },
  {
   "cell_type": "markdown",
   "id": "4cee0010",
   "metadata": {},
   "source": [
    "# Test KShot F1"
   ]
  },
  {
   "cell_type": "code",
   "execution_count": 48,
   "id": "77b4273b",
   "metadata": {},
   "outputs": [],
   "source": [
    "from metrics.classification import KShotF1"
   ]
  },
  {
   "cell_type": "code",
   "execution_count": 49,
   "id": "f4c7ea39",
   "metadata": {},
   "outputs": [],
   "source": [
    "kshot_f1 = KShotF1(few_shot_classes, medium_shot_classes, many_shot_classes)"
   ]
  },
  {
   "cell_type": "code",
   "execution_count": 50,
   "id": "e8472d15",
   "metadata": {},
   "outputs": [
    {
     "data": {
      "text/plain": [
       "(tensor(0.3158), tensor(0.5000), tensor(0.4000))"
      ]
     },
     "execution_count": 50,
     "metadata": {},
     "output_type": "execute_result"
    }
   ],
   "source": [
    "kshot_f1(output, targets)"
   ]
  },
  {
   "cell_type": "code",
   "execution_count": 51,
   "id": "c7cfc21b",
   "metadata": {},
   "outputs": [
    {
     "data": {
      "text/plain": [
       "(tensor(0.3158), tensor(0.5000), tensor(0.4000))"
      ]
     },
     "execution_count": 51,
     "metadata": {},
     "output_type": "execute_result"
    }
   ],
   "source": [
    "kshot_f1.compute()"
   ]
  },
  {
   "cell_type": "code",
   "execution_count": 52,
   "id": "0e21bbaa",
   "metadata": {},
   "outputs": [
    {
     "data": {
      "text/plain": [
       "(tensor(0.3158), tensor(0.5000), tensor(0.4000))"
      ]
     },
     "execution_count": 52,
     "metadata": {},
     "output_type": "execute_result"
    }
   ],
   "source": [
    "kshot_f1.reset()\n",
    "kshot_f1.compute()"
   ]
  },
  {
   "cell_type": "code",
   "execution_count": 53,
   "id": "f92319a3",
   "metadata": {},
   "outputs": [
    {
     "data": {
      "text/plain": [
       "(tensor(0.4000), 0, tensor(0.6667))"
      ]
     },
     "execution_count": 53,
     "metadata": {},
     "output_type": "execute_result"
    }
   ],
   "source": [
    "kshot_f1(torch.Tensor([0, 1, 1, 2, 3, 4, 7, 8, 7]), torch.Tensor([1, 1, 0, 2, 2, 2, 7, 7, 7]))"
   ]
  },
  {
   "cell_type": "code",
   "execution_count": 54,
   "id": "9bc9b27a",
   "metadata": {},
   "outputs": [
    {
     "data": {
      "text/plain": [
       "(tensor(0.4000), 0, tensor(0.6667))"
      ]
     },
     "execution_count": 54,
     "metadata": {},
     "output_type": "execute_result"
    }
   ],
   "source": [
    "kshot_f1.compute()"
   ]
  },
  {
   "cell_type": "code",
   "execution_count": 56,
   "id": "04ee74e6",
   "metadata": {},
   "outputs": [
    {
     "data": {
      "text/plain": [
       "(tensor(0.3158), tensor(0.5000), tensor(0.4000))"
      ]
     },
     "execution_count": 56,
     "metadata": {},
     "output_type": "execute_result"
    }
   ],
   "source": [
    "kshot_f1(output, targets)\n",
    "kshot_f1.compute()"
   ]
  },
  {
   "cell_type": "code",
   "execution_count": 57,
   "id": "2669a025",
   "metadata": {},
   "outputs": [
    {
     "data": {
      "text/plain": [
       "(tensor(0.3158), tensor(0.5000), tensor(0.4000))"
      ]
     },
     "execution_count": 57,
     "metadata": {},
     "output_type": "execute_result"
    }
   ],
   "source": [
    "kshot_f1.compute()"
   ]
  },
  {
   "cell_type": "markdown",
   "id": "a807c484",
   "metadata": {},
   "source": [
    "# Test KShot mAP"
   ]
  },
  {
   "cell_type": "code",
   "execution_count": 7,
   "id": "dfe33dd8",
   "metadata": {},
   "outputs": [],
   "source": [
    "from metrics.classification import KShotmAP"
   ]
  },
  {
   "cell_type": "code",
   "execution_count": 35,
   "id": "34340be3",
   "metadata": {},
   "outputs": [],
   "source": [
    "kshot_map = KShotmAP(few_shot_classes, medium_shot_classes, many_shot_classes)"
   ]
  },
  {
   "cell_type": "code",
   "execution_count": 37,
   "id": "1f7a0ad0",
   "metadata": {},
   "outputs": [
    {
     "name": "stdout",
     "output_type": "stream",
     "text": [
      "(27, 3) (27,)\n",
      "(27, 3) (27,)\n"
     ]
    },
    {
     "data": {
      "text/plain": [
       "(tensor(0.5191), tensor(0.5309), tensor(0.6317))"
      ]
     },
     "execution_count": 37,
     "metadata": {},
     "output_type": "execute_result"
    }
   ],
   "source": [
    "kshot_map(logits, targets)"
   ]
  },
  {
   "cell_type": "code",
   "execution_count": 29,
   "id": "4edbceb2",
   "metadata": {},
   "outputs": [
    {
     "data": {
      "text/plain": [
       "tensor([[0., 0., 0., 0., 0., 0., 0., 0., 0., 0., 0., 0., 0., 0., 0., 0., 0., 0., 0., 0., 0., 0., 0., 0.,\n",
       "         0., 0., 0.]])"
      ]
     },
     "execution_count": 29,
     "metadata": {},
     "output_type": "execute_result"
    }
   ],
   "source": [
    "targets.unsqueeze(0)"
   ]
  },
  {
   "cell_type": "code",
   "execution_count": 68,
   "id": "598a20e2",
   "metadata": {},
   "outputs": [
    {
     "data": {
      "text/plain": [
       "(tensor(0.4259), tensor(0.4747), tensor(0.4815))"
      ]
     },
     "execution_count": 68,
     "metadata": {},
     "output_type": "execute_result"
    }
   ],
   "source": [
    "kshot_map.compute()"
   ]
  },
  {
   "cell_type": "code",
   "execution_count": 69,
   "id": "97b3e994",
   "metadata": {},
   "outputs": [
    {
     "data": {
      "text/plain": [
       "(tensor(1.), tensor(nan), tensor(nan))"
      ]
     },
     "execution_count": 69,
     "metadata": {},
     "output_type": "execute_result"
    }
   ],
   "source": [
    "kshot_map.reset()\n",
    "kshot_map(torch.Tensor([0, 1, 1]), torch.Tensor([1, 1, 0]))"
   ]
  },
  {
   "cell_type": "markdown",
   "id": "ede2e756",
   "metadata": {},
   "source": [
    "# Test Operations"
   ]
  },
  {
   "cell_type": "code",
   "execution_count": 73,
   "id": "d7a8d90e",
   "metadata": {},
   "outputs": [],
   "source": [
    "few_index = np.isin(targets, few_shot_classes)"
   ]
  },
  {
   "cell_type": "code",
   "execution_count": 78,
   "id": "e13656ea",
   "metadata": {},
   "outputs": [],
   "source": [
    "a = np.random.randn(5, 10)"
   ]
  },
  {
   "cell_type": "code",
   "execution_count": 80,
   "id": "cd8b3982",
   "metadata": {},
   "outputs": [
    {
     "data": {
      "text/plain": [
       "array([[ 1.14714590e+00, -1.63413941e-01, -2.02308078e-01,\n",
       "        -7.64310154e-01, -6.80477724e-02, -1.82405258e-01,\n",
       "         1.35195412e+00, -1.96038227e-01, -1.27682739e-01,\n",
       "        -7.52517480e-01],\n",
       "       [ 4.59570355e-01, -1.74835900e-01, -1.57434719e+00,\n",
       "        -1.41275337e+00,  7.94968610e-04, -1.65658101e+00,\n",
       "         2.77241573e-01,  1.52173109e+00,  2.05000875e+00,\n",
       "        -5.81942996e-01],\n",
       "       [-1.06757485e+00, -1.78662041e+00, -1.68172430e-01,\n",
       "        -7.67709644e-01,  7.10804654e-01, -1.05814826e+00,\n",
       "         1.45614554e+00,  1.61743186e+00,  7.34027045e-01,\n",
       "        -4.93252534e-01],\n",
       "       [-9.46190671e-01, -1.35010649e-01,  1.32096434e-01,\n",
       "         1.48568431e+00, -2.04754632e-01,  6.52498738e-01,\n",
       "        -1.47752191e+00,  9.46675229e-01, -1.07989556e+00,\n",
       "        -9.37349248e-01],\n",
       "       [-1.60863651e+00, -8.99207846e-01,  1.81027686e+00,\n",
       "        -2.18225722e-01,  2.48246297e-01,  1.06931578e+00,\n",
       "        -1.63354795e+00,  6.41030229e-01, -3.99618932e-01,\n",
       "        -1.04537453e+00]])"
      ]
     },
     "execution_count": 80,
     "metadata": {},
     "output_type": "execute_result"
    }
   ],
   "source": [
    "a"
   ]
  },
  {
   "cell_type": "code",
   "execution_count": 79,
   "id": "05739759",
   "metadata": {},
   "outputs": [],
   "source": [
    "k = np.zeros((5, 3))"
   ]
  },
  {
   "cell_type": "code",
   "execution_count": 81,
   "id": "0df868ff",
   "metadata": {},
   "outputs": [],
   "source": [
    "k[:,0] = np.max(a[:,[0, 1, 2]], axis=1)"
   ]
  },
  {
   "cell_type": "code",
   "execution_count": 82,
   "id": "8a89b50a",
   "metadata": {},
   "outputs": [
    {
     "data": {
      "text/plain": [
       "array([[ 1.1471459 ,  0.        ,  0.        ],\n",
       "       [ 0.45957035,  0.        ,  0.        ],\n",
       "       [-0.16817243,  0.        ,  0.        ],\n",
       "       [ 0.13209643,  0.        ,  0.        ],\n",
       "       [ 1.81027686,  0.        ,  0.        ]])"
      ]
     },
     "execution_count": 82,
     "metadata": {},
     "output_type": "execute_result"
    }
   ],
   "source": [
    "k"
   ]
  },
  {
   "cell_type": "code",
   "execution_count": 75,
   "id": "c16f5981",
   "metadata": {},
   "outputs": [],
   "source": [
    "a = np.random.randn(3, 3)\n",
    "b = np.random.randn(3, 3)"
   ]
  },
  {
   "cell_type": "code",
   "execution_count": 76,
   "id": "2a3d5daa",
   "metadata": {},
   "outputs": [],
   "source": [
    "x = np.array([a, b])"
   ]
  },
  {
   "cell_type": "code",
   "execution_count": 77,
   "id": "b65b3aae",
   "metadata": {},
   "outputs": [],
   "source": [
    "x_0 = np.array([1, 1])"
   ]
  },
  {
   "cell_type": "code",
   "execution_count": 67,
   "id": "a91612d7",
   "metadata": {},
   "outputs": [],
   "source": [
    "d = x.dot(x_0)"
   ]
  },
  {
   "cell_type": "code",
   "execution_count": 69,
   "id": "704944d4",
   "metadata": {},
   "outputs": [
    {
     "data": {
      "text/plain": [
       "array([[[ 0.37532889, -0.54136463],\n",
       "        [ 0.53661224, -0.16699857]],\n",
       "\n",
       "       [[-1.76460228,  0.95153931],\n",
       "        [-1.09968922, -0.52459038]]])"
      ]
     },
     "execution_count": 69,
     "metadata": {},
     "output_type": "execute_result"
    }
   ],
   "source": [
    "x"
   ]
  },
  {
   "cell_type": "code",
   "execution_count": 83,
   "id": "fbf3fee1",
   "metadata": {},
   "outputs": [
    {
     "ename": "ValueError",
     "evalue": "shapes (1,2) and (2,3,3) not aligned: 2 (dim 1) != 3 (dim 1)",
     "output_type": "error",
     "traceback": [
      "\u001b[0;31m---------------------------------------------------------------------------\u001b[0m",
      "\u001b[0;31mValueError\u001b[0m                                Traceback (most recent call last)",
      "\u001b[0;32m<ipython-input-83-da280ab12499>\u001b[0m in \u001b[0;36m<module>\u001b[0;34m\u001b[0m\n\u001b[0;32m----> 1\u001b[0;31m \u001b[0mx_0\u001b[0m\u001b[0;34m.\u001b[0m\u001b[0mreshape\u001b[0m\u001b[0;34m(\u001b[0m\u001b[0;34m(\u001b[0m\u001b[0;36m1\u001b[0m\u001b[0;34m,\u001b[0m \u001b[0;36m2\u001b[0m\u001b[0;34m)\u001b[0m\u001b[0;34m)\u001b[0m\u001b[0;34m.\u001b[0m\u001b[0mdot\u001b[0m\u001b[0;34m(\u001b[0m\u001b[0mx\u001b[0m\u001b[0;34m)\u001b[0m\u001b[0;34m\u001b[0m\u001b[0;34m\u001b[0m\u001b[0m\n\u001b[0m",
      "\u001b[0;31mValueError\u001b[0m: shapes (1,2) and (2,3,3) not aligned: 2 (dim 1) != 3 (dim 1)"
     ]
    }
   ],
   "source": [
    "x_0.reshape((1, 2)).dot(x)"
   ]
  },
  {
   "cell_type": "code",
   "execution_count": 80,
   "id": "9b36888a",
   "metadata": {},
   "outputs": [
    {
     "ename": "ValueError",
     "evalue": "shapes (2,) and (2,3,3) not aligned: 2 (dim 0) != 3 (dim 1)",
     "output_type": "error",
     "traceback": [
      "\u001b[0;31m---------------------------------------------------------------------------\u001b[0m",
      "\u001b[0;31mValueError\u001b[0m                                Traceback (most recent call last)",
      "\u001b[0;32m<ipython-input-80-e641088c353f>\u001b[0m in \u001b[0;36m<module>\u001b[0;34m\u001b[0m\n\u001b[0;32m----> 1\u001b[0;31m \u001b[0mx_0\u001b[0m\u001b[0;34m.\u001b[0m\u001b[0mT\u001b[0m\u001b[0;34m.\u001b[0m\u001b[0mdot\u001b[0m\u001b[0;34m(\u001b[0m\u001b[0mx\u001b[0m\u001b[0;34m)\u001b[0m\u001b[0;34m\u001b[0m\u001b[0;34m\u001b[0m\u001b[0m\n\u001b[0m",
      "\u001b[0;31mValueError\u001b[0m: shapes (2,) and (2,3,3) not aligned: 2 (dim 0) != 3 (dim 1)"
     ]
    }
   ],
   "source": [
    "x_0.T.dot(x)"
   ]
  }
 ],
 "metadata": {
  "kernelspec": {
   "display_name": "nazir_env",
   "language": "python",
   "name": "nazir_env"
  },
  "language_info": {
   "codemirror_mode": {
    "name": "ipython",
    "version": 3
   },
   "file_extension": ".py",
   "mimetype": "text/x-python",
   "name": "python",
   "nbconvert_exporter": "python",
   "pygments_lexer": "ipython3",
   "version": "3.8.12"
  }
 },
 "nbformat": 4,
 "nbformat_minor": 5
}
