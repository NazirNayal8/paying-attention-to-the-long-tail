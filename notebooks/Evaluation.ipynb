{
 "cells": [
  {
   "cell_type": "code",
   "execution_count": 1,
   "id": "6ffc1a10",
   "metadata": {},
   "outputs": [
    {
     "data": {
      "text/plain": [
       "'/media/nazirnayal/DATA/projects/attention_long_tail/paying-attention-to-the-long-tail'"
      ]
     },
     "execution_count": 1,
     "metadata": {},
     "output_type": "execute_result"
    }
   ],
   "source": [
    "import os\n",
    "\n",
    "os.chdir('../')\n",
    "os.getcwd()"
   ]
  },
  {
   "cell_type": "code",
   "execution_count": 2,
   "id": "db12f890",
   "metadata": {},
   "outputs": [],
   "source": [
    "import wandb\n",
    "import pytorch_lightning as pl\n",
    "import yaml\n",
    "from transformer_pl import Transformer\n",
    "from pytorch_lightning.loggers import WandbLogger\n",
    "import matplotlib.pyplot as plt\n",
    "import seaborn as sns"
   ]
  },
  {
   "cell_type": "code",
   "execution_count": 3,
   "id": "5b6a4858",
   "metadata": {},
   "outputs": [],
   "source": [
    "def read_config(path):\n",
    "    with open(path, \"r\") as f:\n",
    "        config = yaml.load(f, Loader=yaml.FullLoader)\n",
    "    return config\n",
    "\n",
    "\n",
    "config = read_config('configs/cifar100_config_local.yaml')\n",
    "\n",
    "\n",
    "\n",
    "if isinstance(config['class_names'], str):\n",
    "    class_names = read_config(config['class_names'])\n",
    "    config['class_names'] = list(class_names.values())"
   ]
  },
  {
   "cell_type": "code",
   "execution_count": 4,
   "id": "daed2906",
   "metadata": {
    "scrolled": true
   },
   "outputs": [
    {
     "name": "stderr",
     "output_type": "stream",
     "text": [
      "GPU available: True, used: True\n",
      "TPU available: False, using: 0 TPU cores\n",
      "IPU available: False, using: 0 IPUs\n"
     ]
    },
    {
     "name": "stdout",
     "output_type": "stream",
     "text": [
      "Files already downloaded and verified\n",
      "Files already downloaded and verified\n",
      "Files already downloaded and verified\n"
     ]
    },
    {
     "name": "stderr",
     "output_type": "stream",
     "text": [
      "Restoring states from the checkpoint path at paying-attention-to-the-long-tail/2sewnz59/checkpoints/epoch=59-step=81359.ckpt\n",
      "LOCAL_RANK: 0 - CUDA_VISIBLE_DEVICES: [0]\n",
      "\u001b[34m\u001b[1mwandb\u001b[0m: Currently logged in as: \u001b[33mnazirnayal98\u001b[0m (use `wandb login --relogin` to force relogin)\n",
      "\u001b[34m\u001b[1mwandb\u001b[0m: wandb version 0.12.7 is available!  To upgrade, please run:\n",
      "\u001b[34m\u001b[1mwandb\u001b[0m:  $ pip install wandb --upgrade\n"
     ]
    },
    {
     "data": {
      "text/html": [
       "\n",
       "                    Syncing run <strong><a href=\"https://wandb.ai/nazirnayal98/paying-attention-to-the-long-tail/runs/2r3iwse7\" target=\"_blank\">visualization</a></strong> to <a href=\"https://wandb.ai/nazirnayal98/paying-attention-to-the-long-tail\" target=\"_blank\">Weights & Biases</a> (<a href=\"https://docs.wandb.com/integrations/jupyter.html\" target=\"_blank\">docs</a>).<br/>\n",
       "\n",
       "                "
      ],
      "text/plain": [
       "<IPython.core.display.HTML object>"
      ]
     },
     "metadata": {},
     "output_type": "display_data"
    },
    {
     "name": "stderr",
     "output_type": "stream",
     "text": [
      "Loaded model weights from checkpoint at paying-attention-to-the-long-tail/2sewnz59/checkpoints/epoch=59-step=81359.ckpt\n"
     ]
    },
    {
     "data": {
      "application/vnd.jupyter.widget-view+json": {
       "model_id": "218a20c785eb45fe8628b2961346d818",
       "version_major": 2,
       "version_minor": 0
      },
      "text/plain": [
       "Testing: 0it [00:00, ?it/s]"
      ]
     },
     "metadata": {},
     "output_type": "display_data"
    },
    {
     "name": "stderr",
     "output_type": "stream",
     "text": [
      "\u001b[34m\u001b[1mwandb\u001b[0m: \u001b[33mWARNING\u001b[0m wandb uses only the first 10000 datapoints to create the plots.\n",
      "TEST Profiler Report\n",
      "\n",
      "Action                             \t|  Mean duration (s)\t|Num calls      \t|  Total time (s) \t|  Percentage %   \t|\n",
      "---------------------------------------------------------------------------------------------------------------------------------------\n",
      "Total                              \t|  -              \t|_              \t|  40.396         \t|  100 %          \t|\n",
      "---------------------------------------------------------------------------------------------------------------------------------------\n",
      "run_test_evaluation                \t|  31.22          \t|1              \t|  31.22          \t|  77.284         \t|\n",
      "evaluation_step_and_end            \t|  0.025478       \t|1000           \t|  25.478         \t|  63.072         \t|\n",
      "test_step                          \t|  0.025428       \t|1000           \t|  25.428         \t|  62.947         \t|\n",
      "setup                              \t|  1.4993         \t|1              \t|  1.4993         \t|  3.7115         \t|\n",
      "get_test_batch                     \t|  0.00086346     \t|1001           \t|  0.86432        \t|  2.1396         \t|\n",
      "fetch_next_test_batch              \t|  0.00085273     \t|1001           \t|  0.85358        \t|  2.113          \t|\n",
      "evaluation_batch_to_device         \t|  0.00071781     \t|1000           \t|  0.71781        \t|  1.7769         \t|\n",
      "on_test_batch_end                  \t|  0.00015121     \t|1000           \t|  0.15121        \t|  0.37431        \t|\n",
      "on_test_start                      \t|  0.01448        \t|1              \t|  0.01448        \t|  0.035845       \t|\n",
      "on_test_batch_start                \t|  1.006e-05      \t|1000           \t|  0.01006        \t|  0.024903       \t|\n",
      "test_step_end                      \t|  4.9112e-06     \t|1000           \t|  0.0049112      \t|  0.012158       \t|\n",
      "on_test_model_eval                 \t|  0.0025288      \t|1              \t|  0.0025288      \t|  0.00626        \t|\n",
      "on_test_end                        \t|  0.00073786     \t|1              \t|  0.00073786     \t|  0.0018266      \t|\n",
      "test_dataloader                    \t|  0.00023985     \t|1              \t|  0.00023985     \t|  0.00059375     \t|\n",
      "on_test_epoch_end                  \t|  8.2295e-05     \t|1              \t|  8.2295e-05     \t|  0.00020372     \t|\n",
      "on_epoch_end                       \t|  3.9651e-05     \t|1              \t|  3.9651e-05     \t|  9.8155e-05     \t|\n",
      "on_before_accelerator_backend_setup\t|  3.425e-05      \t|1              \t|  3.425e-05      \t|  8.4785e-05     \t|\n",
      "teardown                           \t|  1.5815e-05     \t|1              \t|  1.5815e-05     \t|  3.915e-05      \t|\n",
      "on_configure_sharded_model         \t|  1.3951e-05     \t|1              \t|  1.3951e-05     \t|  3.4535e-05     \t|\n",
      "on_epoch_start                     \t|  1.0228e-05     \t|1              \t|  1.0228e-05     \t|  2.5319e-05     \t|\n",
      "on_test_epoch_start                \t|  8.0951e-06     \t|1              \t|  8.0951e-06     \t|  2.0039e-05     \t|\n",
      "configure_sharded_model            \t|  5.2811e-06     \t|1              \t|  5.2811e-06     \t|  1.3073e-05     \t|\n",
      "on_test_dataloader                 \t|  5.025e-06      \t|1              \t|  5.025e-06      \t|  1.2439e-05     \t|\n",
      "prepare_data                       \t|  4.6499e-06     \t|1              \t|  4.6499e-06     \t|  1.1511e-05     \t|\n",
      "configure_callbacks                \t|  2.7691e-06     \t|1              \t|  2.7691e-06     \t|  6.8547e-06     \t|\n",
      "\n"
     ]
    },
    {
     "name": "stdout",
     "output_type": "stream",
     "text": [
      "--------------------------------------------------------------------------------\n",
      "DATALOADER:0 TEST RESULTS\n",
      "{'class_0_test_accuracy': 0.824999988079071,\n",
      " 'class_10_test_accuracy': 0.10000000149011612,\n",
      " 'class_11_test_accuracy': 0.36250001192092896,\n",
      " 'class_12_test_accuracy': 0.38749998807907104,\n",
      " 'class_13_test_accuracy': 0.5625,\n",
      " 'class_14_test_accuracy': 0.32499998807907104,\n",
      " 'class_15_test_accuracy': 0.22499999403953552,\n",
      " 'class_16_test_accuracy': 0.38749998807907104,\n",
      " 'class_17_test_accuracy': 0.574999988079071,\n",
      " 'class_18_test_accuracy': 0.3499999940395355,\n",
      " 'class_19_test_accuracy': 0.3125,\n",
      " 'class_1_test_accuracy': 0.675000011920929,\n",
      " 'class_20_test_accuracy': 0.574999988079071,\n",
      " 'class_21_test_accuracy': 0.25,\n",
      " 'class_22_test_accuracy': 0.17499999701976776,\n",
      " 'class_23_test_accuracy': 0.875,\n",
      " 'class_24_test_accuracy': 0.5375000238418579,\n",
      " 'class_25_test_accuracy': 0.08749999850988388,\n",
      " 'class_26_test_accuracy': 0.32499998807907104,\n",
      " 'class_27_test_accuracy': 0.16249999403953552,\n",
      " 'class_28_test_accuracy': 0.10000000149011612,\n",
      " 'class_29_test_accuracy': 0.17499999701976776,\n",
      " 'class_2_test_accuracy': 0.48750001192092896,\n",
      " 'class_30_test_accuracy': 0.4749999940395355,\n",
      " 'class_31_test_accuracy': 0.1875,\n",
      " 'class_32_test_accuracy': 0.22499999403953552,\n",
      " 'class_33_test_accuracy': 0.16249999403953552,\n",
      " 'class_34_test_accuracy': 0.1875,\n",
      " 'class_35_test_accuracy': 0.23749999701976776,\n",
      " 'class_36_test_accuracy': 0.23749999701976776,\n",
      " 'class_37_test_accuracy': 0.125,\n",
      " 'class_38_test_accuracy': 0.13750000298023224,\n",
      " 'class_39_test_accuracy': 0.22499999403953552,\n",
      " 'class_3_test_accuracy': 0.36250001192092896,\n",
      " 'class_40_test_accuracy': 0.02500000037252903,\n",
      " 'class_41_test_accuracy': 0.512499988079071,\n",
      " 'class_42_test_accuracy': 0.17499999701976776,\n",
      " 'class_43_test_accuracy': 0.11249999701976776,\n",
      " 'class_44_test_accuracy': 0.03750000149011612,\n",
      " 'class_45_test_accuracy': 0.07500000298023224,\n",
      " 'class_46_test_accuracy': 0.0625,\n",
      " 'class_47_test_accuracy': 0.26249998807907104,\n",
      " 'class_48_test_accuracy': 0.08749999850988388,\n",
      " 'class_49_test_accuracy': 0.22499999403953552,\n",
      " 'class_4_test_accuracy': 0.44999998807907104,\n",
      " 'class_50_test_accuracy': 0.08749999850988388,\n",
      " 'class_51_test_accuracy': 0.0625,\n",
      " 'class_52_test_accuracy': 0.36250001192092896,\n",
      " 'class_53_test_accuracy': 0.23749999701976776,\n",
      " 'class_54_test_accuracy': 0.16249999403953552,\n",
      " 'class_55_test_accuracy': 0.03750000149011612,\n",
      " 'class_56_test_accuracy': 0.10000000149011612,\n",
      " 'class_57_test_accuracy': 0.02500000037252903,\n",
      " 'class_58_test_accuracy': 0.0625,\n",
      " 'class_59_test_accuracy': 0.07500000298023224,\n",
      " 'class_5_test_accuracy': 0.4375,\n",
      " 'class_60_test_accuracy': 0.5625,\n",
      " 'class_61_test_accuracy': 0.02500000037252903,\n",
      " 'class_62_test_accuracy': 0.4000000059604645,\n",
      " 'class_63_test_accuracy': 0.13750000298023224,\n",
      " 'class_64_test_accuracy': 0.012500000186264515,\n",
      " 'class_65_test_accuracy': 0.0,\n",
      " 'class_66_test_accuracy': 0.03750000149011612,\n",
      " 'class_67_test_accuracy': 0.10000000149011612,\n",
      " 'class_68_test_accuracy': 0.2874999940395355,\n",
      " 'class_69_test_accuracy': 0.1875,\n",
      " 'class_6_test_accuracy': 0.5625,\n",
      " 'class_70_test_accuracy': 0.08749999850988388,\n",
      " 'class_71_test_accuracy': 0.07500000298023224,\n",
      " 'class_72_test_accuracy': 0.0,\n",
      " 'class_73_test_accuracy': 0.15000000596046448,\n",
      " 'class_74_test_accuracy': 0.0,\n",
      " 'class_75_test_accuracy': 0.07500000298023224,\n",
      " 'class_76_test_accuracy': 0.07500000298023224,\n",
      " 'class_77_test_accuracy': 0.0,\n",
      " 'class_78_test_accuracy': 0.0,\n",
      " 'class_79_test_accuracy': 0.02500000037252903,\n",
      " 'class_7_test_accuracy': 0.4625000059604645,\n",
      " 'class_80_test_accuracy': 0.012500000186264515,\n",
      " 'class_81_test_accuracy': 0.012500000186264515,\n",
      " 'class_82_test_accuracy': 0.125,\n",
      " 'class_83_test_accuracy': 0.03750000149011612,\n",
      " 'class_84_test_accuracy': 0.0,\n",
      " 'class_85_test_accuracy': 0.0,\n",
      " 'class_86_test_accuracy': 0.02500000037252903,\n",
      " 'class_87_test_accuracy': 0.012500000186264515,\n",
      " 'class_88_test_accuracy': 0.03750000149011612,\n",
      " 'class_89_test_accuracy': 0.012500000186264515,\n",
      " 'class_8_test_accuracy': 0.48750001192092896,\n",
      " 'class_90_test_accuracy': 0.0,\n",
      " 'class_91_test_accuracy': 0.0,\n",
      " 'class_92_test_accuracy': 0.012500000186264515,\n",
      " 'class_93_test_accuracy': 0.0,\n",
      " 'class_94_test_accuracy': 0.0,\n",
      " 'class_95_test_accuracy': 0.0625,\n",
      " 'class_96_test_accuracy': 0.012500000186264515,\n",
      " 'class_97_test_accuracy': 0.0,\n",
      " 'class_98_test_accuracy': 0.0,\n",
      " 'class_99_test_accuracy': 0.0,\n",
      " 'class_9_test_accuracy': 0.4749999940395355,\n",
      " 'test_accuracy': 0.1966249942779541}\n",
      "--------------------------------------------------------------------------------\n"
     ]
    }
   ],
   "source": [
    "model = Transformer(config)\n",
    "wandb_logger = WandbLogger(name='visualization', job_type='train', log_model=True)\n",
    "outputs = pl.Trainer(\n",
    "    gpus=1, \n",
    "    profiler='simple',\n",
    "    logger=wandb_logger\n",
    ").test(\n",
    "    model, \n",
    "    ckpt_path='paying-attention-to-the-long-tail/2sewnz59/checkpoints/epoch=59-step=81359.ckpt'\n",
    ")"
   ]
  },
  {
   "cell_type": "code",
   "execution_count": 5,
   "id": "96cc79a1",
   "metadata": {},
   "outputs": [],
   "source": [
    "outputs = outputs[0]"
   ]
  },
  {
   "cell_type": "code",
   "execution_count": 6,
   "id": "099dbd71",
   "metadata": {
    "collapsed": true
   },
   "outputs": [
    {
     "data": {
      "text/plain": [
       "{0: 0.824999988079071,\n",
       " 1: 0.675000011920929,\n",
       " 2: 0.48750001192092896,\n",
       " 3: 0.36250001192092896,\n",
       " 4: 0.44999998807907104,\n",
       " 5: 0.4375,\n",
       " 6: 0.5625,\n",
       " 7: 0.4625000059604645,\n",
       " 8: 0.48750001192092896,\n",
       " 9: 0.4749999940395355,\n",
       " 10: 0.10000000149011612,\n",
       " 11: 0.36250001192092896,\n",
       " 12: 0.38749998807907104,\n",
       " 13: 0.5625,\n",
       " 14: 0.32499998807907104,\n",
       " 15: 0.22499999403953552,\n",
       " 16: 0.38749998807907104,\n",
       " 17: 0.574999988079071,\n",
       " 18: 0.3499999940395355,\n",
       " 19: 0.3125,\n",
       " 20: 0.574999988079071,\n",
       " 21: 0.25,\n",
       " 22: 0.17499999701976776,\n",
       " 23: 0.875,\n",
       " 24: 0.5375000238418579,\n",
       " 25: 0.08749999850988388,\n",
       " 26: 0.32499998807907104,\n",
       " 27: 0.16249999403953552,\n",
       " 28: 0.10000000149011612,\n",
       " 29: 0.17499999701976776,\n",
       " 30: 0.4749999940395355,\n",
       " 31: 0.1875,\n",
       " 32: 0.22499999403953552,\n",
       " 33: 0.16249999403953552,\n",
       " 34: 0.1875,\n",
       " 35: 0.23749999701976776,\n",
       " 36: 0.23749999701976776,\n",
       " 37: 0.125,\n",
       " 38: 0.13750000298023224,\n",
       " 39: 0.22499999403953552,\n",
       " 40: 0.02500000037252903,\n",
       " 41: 0.512499988079071,\n",
       " 42: 0.17499999701976776,\n",
       " 43: 0.11249999701976776,\n",
       " 44: 0.03750000149011612,\n",
       " 45: 0.07500000298023224,\n",
       " 46: 0.0625,\n",
       " 47: 0.26249998807907104,\n",
       " 48: 0.08749999850988388,\n",
       " 49: 0.22499999403953552,\n",
       " 50: 0.08749999850988388,\n",
       " 51: 0.0625,\n",
       " 52: 0.36250001192092896,\n",
       " 53: 0.23749999701976776,\n",
       " 54: 0.16249999403953552,\n",
       " 55: 0.03750000149011612,\n",
       " 56: 0.10000000149011612,\n",
       " 57: 0.02500000037252903,\n",
       " 58: 0.0625,\n",
       " 59: 0.07500000298023224,\n",
       " 60: 0.5625,\n",
       " 61: 0.02500000037252903,\n",
       " 62: 0.4000000059604645,\n",
       " 63: 0.13750000298023224,\n",
       " 64: 0.012500000186264515,\n",
       " 65: 0.0,\n",
       " 66: 0.03750000149011612,\n",
       " 67: 0.10000000149011612,\n",
       " 68: 0.2874999940395355,\n",
       " 69: 0.1875,\n",
       " 70: 0.08749999850988388,\n",
       " 71: 0.07500000298023224,\n",
       " 72: 0.0,\n",
       " 73: 0.15000000596046448,\n",
       " 74: 0.0,\n",
       " 75: 0.07500000298023224,\n",
       " 76: 0.07500000298023224,\n",
       " 77: 0.0,\n",
       " 78: 0.0,\n",
       " 79: 0.02500000037252903,\n",
       " 80: 0.012500000186264515,\n",
       " 81: 0.012500000186264515,\n",
       " 82: 0.125,\n",
       " 83: 0.03750000149011612,\n",
       " 84: 0.0,\n",
       " 85: 0.0,\n",
       " 86: 0.02500000037252903,\n",
       " 87: 0.012500000186264515,\n",
       " 88: 0.03750000149011612,\n",
       " 89: 0.012500000186264515,\n",
       " 90: 0.0,\n",
       " 91: 0.0,\n",
       " 92: 0.012500000186264515,\n",
       " 93: 0.0,\n",
       " 94: 0.0,\n",
       " 95: 0.0625,\n",
       " 96: 0.012500000186264515,\n",
       " 97: 0.0,\n",
       " 98: 0.0,\n",
       " 99: 0.0}"
      ]
     },
     "execution_count": 6,
     "metadata": {},
     "output_type": "execute_result"
    }
   ],
   "source": [
    "numericals = [str(i) for i in range(10)]\n",
    "mp = {}\n",
    "keys = []\n",
    "for k in outputs.keys():\n",
    "    if 'class' in k:\n",
    "        num_1 = int(k[6])\n",
    "        num_2 = k[7]\n",
    "        if num_2 in numericals:\n",
    "            num_1 = num_1 * 10 + int(num_2)\n",
    "        mp[num_1] = outputs[k]\n",
    "        keys.extend([num_1])\n",
    "        \n",
    "mp"
   ]
  },
  {
   "cell_type": "code",
   "execution_count": 8,
   "id": "cd33d4b3",
   "metadata": {},
   "outputs": [],
   "source": [
    "keys.sort()"
   ]
  },
  {
   "cell_type": "code",
   "execution_count": 9,
   "id": "3235b103",
   "metadata": {},
   "outputs": [],
   "source": [
    "values = [mp[k] for k in keys]"
   ]
  },
  {
   "cell_type": "code",
   "execution_count": 12,
   "id": "a00cf34d",
   "metadata": {},
   "outputs": [
    {
     "data": {
      "image/png": "[encoded data removed]",
      "text/plain": [
       "<Figure size 800x400 with 1 Axes>"
      ]
     },
     "metadata": {},
     "output_type": "display_data"
    }
   ],
   "source": [
    "plt.figure(figsize=(8,4))\n",
    "plt.grid()\n",
    "plt.plot(keys, values)\n",
    "plt.title(r'CIFAR-100 $\\rho = 100$ Per Class Accuracy')\n",
    "plt.xlabel('Classes Sorted by Frequency')\n",
    "plt.ylabel('Top-1 Accuracy')\n",
    "plt.show()"
   ]
  },
  {
   "cell_type": "code",
   "execution_count": 11,
   "id": "df5060d5",
   "metadata": {},
   "outputs": [
    {
     "data": {
      "text/html": [
       "<br/>Waiting for W&B process to finish, PID 3784591... <strong style=\"color:green\">(success).</strong>"
      ],
      "text/plain": [
       "<IPython.core.display.HTML object>"
      ]
     },
     "metadata": {},
     "output_type": "display_data"
    },
    {
     "data": {
      "application/vnd.jupyter.widget-view+json": {
       "model_id": "",
       "version_major": 2,
       "version_minor": 0
      },
      "text/plain": [
       "VBox(children=(Label(value=' 0.56MB of 0.58MB uploaded (0.00MB deduped)\\r'), FloatProgress(value=0.95919442980…"
      ]
     },
     "metadata": {},
     "output_type": "display_data"
    },
    {
     "data": {
      "text/html": [
       "<style>\n",
       "    table.wandb td:nth-child(1) { padding: 0 10px; text-align: right }\n",
       "    .wandb-row { display: flex; flex-direction: row; flex-wrap: wrap; width: 100% }\n",
       "    .wandb-col { display: flex; flex-direction: column; flex-basis: 100%; flex: 1; padding: 10px; }\n",
       "    </style>\n",
       "<div class=\"wandb-row\"><div class=\"wandb-col\">\n",
       "<h3>Run history:</h3><br/><table class=\"wandb\"><tr><td>class_0_test_accuracy</td><td>▁</td></tr><tr><td>class_10_test_accuracy</td><td>▁</td></tr><tr><td>class_11_test_accuracy</td><td>▁</td></tr><tr><td>class_12_test_accuracy</td><td>▁</td></tr><tr><td>class_13_test_accuracy</td><td>▁</td></tr><tr><td>class_14_test_accuracy</td><td>▁</td></tr><tr><td>class_15_test_accuracy</td><td>▁</td></tr><tr><td>class_16_test_accuracy</td><td>▁</td></tr><tr><td>class_17_test_accuracy</td><td>▁</td></tr><tr><td>class_18_test_accuracy</td><td>▁</td></tr><tr><td>class_19_test_accuracy</td><td>▁</td></tr><tr><td>class_1_test_accuracy</td><td>▁</td></tr><tr><td>class_20_test_accuracy</td><td>▁</td></tr><tr><td>class_21_test_accuracy</td><td>▁</td></tr><tr><td>class_22_test_accuracy</td><td>▁</td></tr><tr><td>class_23_test_accuracy</td><td>▁</td></tr><tr><td>class_24_test_accuracy</td><td>▁</td></tr><tr><td>class_25_test_accuracy</td><td>▁</td></tr><tr><td>class_26_test_accuracy</td><td>▁</td></tr><tr><td>class_27_test_accuracy</td><td>▁</td></tr><tr><td>class_28_test_accuracy</td><td>▁</td></tr><tr><td>class_29_test_accuracy</td><td>▁</td></tr><tr><td>class_2_test_accuracy</td><td>▁</td></tr><tr><td>class_30_test_accuracy</td><td>▁</td></tr><tr><td>class_31_test_accuracy</td><td>▁</td></tr><tr><td>class_32_test_accuracy</td><td>▁</td></tr><tr><td>class_33_test_accuracy</td><td>▁</td></tr><tr><td>class_34_test_accuracy</td><td>▁</td></tr><tr><td>class_35_test_accuracy</td><td>▁</td></tr><tr><td>class_36_test_accuracy</td><td>▁</td></tr><tr><td>class_37_test_accuracy</td><td>▁</td></tr><tr><td>class_38_test_accuracy</td><td>▁</td></tr><tr><td>class_39_test_accuracy</td><td>▁</td></tr><tr><td>class_3_test_accuracy</td><td>▁</td></tr><tr><td>class_40_test_accuracy</td><td>▁</td></tr><tr><td>class_41_test_accuracy</td><td>▁</td></tr><tr><td>class_42_test_accuracy</td><td>▁</td></tr><tr><td>class_43_test_accuracy</td><td>▁</td></tr><tr><td>class_44_test_accuracy</td><td>▁</td></tr><tr><td>class_45_test_accuracy</td><td>▁</td></tr><tr><td>class_46_test_accuracy</td><td>▁</td></tr><tr><td>class_47_test_accuracy</td><td>▁</td></tr><tr><td>class_48_test_accuracy</td><td>▁</td></tr><tr><td>class_49_test_accuracy</td><td>▁</td></tr><tr><td>class_4_test_accuracy</td><td>▁</td></tr><tr><td>class_50_test_accuracy</td><td>▁</td></tr><tr><td>class_51_test_accuracy</td><td>▁</td></tr><tr><td>class_52_test_accuracy</td><td>▁</td></tr><tr><td>class_53_test_accuracy</td><td>▁</td></tr><tr><td>class_54_test_accuracy</td><td>▁</td></tr><tr><td>class_55_test_accuracy</td><td>▁</td></tr><tr><td>class_56_test_accuracy</td><td>▁</td></tr><tr><td>class_57_test_accuracy</td><td>▁</td></tr><tr><td>class_58_test_accuracy</td><td>▁</td></tr><tr><td>class_59_test_accuracy</td><td>▁</td></tr><tr><td>class_5_test_accuracy</td><td>▁</td></tr><tr><td>class_60_test_accuracy</td><td>▁</td></tr><tr><td>class_61_test_accuracy</td><td>▁</td></tr><tr><td>class_62_test_accuracy</td><td>▁</td></tr><tr><td>class_63_test_accuracy</td><td>▁</td></tr><tr><td>class_64_test_accuracy</td><td>▁</td></tr><tr><td>class_65_test_accuracy</td><td>▁</td></tr><tr><td>class_66_test_accuracy</td><td>▁</td></tr><tr><td>class_67_test_accuracy</td><td>▁</td></tr><tr><td>class_68_test_accuracy</td><td>▁</td></tr><tr><td>class_69_test_accuracy</td><td>▁</td></tr><tr><td>class_6_test_accuracy</td><td>▁</td></tr><tr><td>class_70_test_accuracy</td><td>▁</td></tr><tr><td>class_71_test_accuracy</td><td>▁</td></tr><tr><td>class_72_test_accuracy</td><td>▁</td></tr><tr><td>class_73_test_accuracy</td><td>▁</td></tr><tr><td>class_74_test_accuracy</td><td>▁</td></tr><tr><td>class_75_test_accuracy</td><td>▁</td></tr><tr><td>class_76_test_accuracy</td><td>▁</td></tr><tr><td>class_77_test_accuracy</td><td>▁</td></tr><tr><td>class_78_test_accuracy</td><td>▁</td></tr><tr><td>class_79_test_accuracy</td><td>▁</td></tr><tr><td>class_7_test_accuracy</td><td>▁</td></tr><tr><td>class_80_test_accuracy</td><td>▁</td></tr><tr><td>class_81_test_accuracy</td><td>▁</td></tr><tr><td>class_82_test_accuracy</td><td>▁</td></tr><tr><td>class_83_test_accuracy</td><td>▁</td></tr><tr><td>class_84_test_accuracy</td><td>▁</td></tr><tr><td>class_85_test_accuracy</td><td>▁</td></tr><tr><td>class_86_test_accuracy</td><td>▁</td></tr><tr><td>class_87_test_accuracy</td><td>▁</td></tr><tr><td>class_88_test_accuracy</td><td>▁</td></tr><tr><td>class_89_test_accuracy</td><td>▁</td></tr><tr><td>class_8_test_accuracy</td><td>▁</td></tr><tr><td>class_90_test_accuracy</td><td>▁</td></tr><tr><td>class_91_test_accuracy</td><td>▁</td></tr><tr><td>class_92_test_accuracy</td><td>▁</td></tr><tr><td>class_93_test_accuracy</td><td>▁</td></tr><tr><td>class_94_test_accuracy</td><td>▁</td></tr><tr><td>class_95_test_accuracy</td><td>▁</td></tr><tr><td>class_96_test_accuracy</td><td>▁</td></tr><tr><td>class_97_test_accuracy</td><td>▁</td></tr><tr><td>class_98_test_accuracy</td><td>▁</td></tr><tr><td>class_99_test_accuracy</td><td>▁</td></tr><tr><td>class_9_test_accuracy</td><td>▁</td></tr><tr><td>epoch</td><td>▁</td></tr><tr><td>test_accuracy</td><td>▁</td></tr><tr><td>trainer/global_step</td><td>▁</td></tr></table><br/></div><div class=\"wandb-col\">\n",
       "<h3>Run summary:</h3><br/><table class=\"wandb\"><tr><td>class_0_test_accuracy</td><td>0.825</td></tr><tr><td>class_10_test_accuracy</td><td>0.1</td></tr><tr><td>class_11_test_accuracy</td><td>0.3625</td></tr><tr><td>class_12_test_accuracy</td><td>0.3875</td></tr><tr><td>class_13_test_accuracy</td><td>0.5625</td></tr><tr><td>class_14_test_accuracy</td><td>0.325</td></tr><tr><td>class_15_test_accuracy</td><td>0.225</td></tr><tr><td>class_16_test_accuracy</td><td>0.3875</td></tr><tr><td>class_17_test_accuracy</td><td>0.575</td></tr><tr><td>class_18_test_accuracy</td><td>0.35</td></tr><tr><td>class_19_test_accuracy</td><td>0.3125</td></tr><tr><td>class_1_test_accuracy</td><td>0.675</td></tr><tr><td>class_20_test_accuracy</td><td>0.575</td></tr><tr><td>class_21_test_accuracy</td><td>0.25</td></tr><tr><td>class_22_test_accuracy</td><td>0.175</td></tr><tr><td>class_23_test_accuracy</td><td>0.875</td></tr><tr><td>class_24_test_accuracy</td><td>0.5375</td></tr><tr><td>class_25_test_accuracy</td><td>0.0875</td></tr><tr><td>class_26_test_accuracy</td><td>0.325</td></tr><tr><td>class_27_test_accuracy</td><td>0.1625</td></tr><tr><td>class_28_test_accuracy</td><td>0.1</td></tr><tr><td>class_29_test_accuracy</td><td>0.175</td></tr><tr><td>class_2_test_accuracy</td><td>0.4875</td></tr><tr><td>class_30_test_accuracy</td><td>0.475</td></tr><tr><td>class_31_test_accuracy</td><td>0.1875</td></tr><tr><td>class_32_test_accuracy</td><td>0.225</td></tr><tr><td>class_33_test_accuracy</td><td>0.1625</td></tr><tr><td>class_34_test_accuracy</td><td>0.1875</td></tr><tr><td>class_35_test_accuracy</td><td>0.2375</td></tr><tr><td>class_36_test_accuracy</td><td>0.2375</td></tr><tr><td>class_37_test_accuracy</td><td>0.125</td></tr><tr><td>class_38_test_accuracy</td><td>0.1375</td></tr><tr><td>class_39_test_accuracy</td><td>0.225</td></tr><tr><td>class_3_test_accuracy</td><td>0.3625</td></tr><tr><td>class_40_test_accuracy</td><td>0.025</td></tr><tr><td>class_41_test_accuracy</td><td>0.5125</td></tr><tr><td>class_42_test_accuracy</td><td>0.175</td></tr><tr><td>class_43_test_accuracy</td><td>0.1125</td></tr><tr><td>class_44_test_accuracy</td><td>0.0375</td></tr><tr><td>class_45_test_accuracy</td><td>0.075</td></tr><tr><td>class_46_test_accuracy</td><td>0.0625</td></tr><tr><td>class_47_test_accuracy</td><td>0.2625</td></tr><tr><td>class_48_test_accuracy</td><td>0.0875</td></tr><tr><td>class_49_test_accuracy</td><td>0.225</td></tr><tr><td>class_4_test_accuracy</td><td>0.45</td></tr><tr><td>class_50_test_accuracy</td><td>0.0875</td></tr><tr><td>class_51_test_accuracy</td><td>0.0625</td></tr><tr><td>class_52_test_accuracy</td><td>0.3625</td></tr><tr><td>class_53_test_accuracy</td><td>0.2375</td></tr><tr><td>class_54_test_accuracy</td><td>0.1625</td></tr><tr><td>class_55_test_accuracy</td><td>0.0375</td></tr><tr><td>class_56_test_accuracy</td><td>0.1</td></tr><tr><td>class_57_test_accuracy</td><td>0.025</td></tr><tr><td>class_58_test_accuracy</td><td>0.0625</td></tr><tr><td>class_59_test_accuracy</td><td>0.075</td></tr><tr><td>class_5_test_accuracy</td><td>0.4375</td></tr><tr><td>class_60_test_accuracy</td><td>0.5625</td></tr><tr><td>class_61_test_accuracy</td><td>0.025</td></tr><tr><td>class_62_test_accuracy</td><td>0.4</td></tr><tr><td>class_63_test_accuracy</td><td>0.1375</td></tr><tr><td>class_64_test_accuracy</td><td>0.0125</td></tr><tr><td>class_65_test_accuracy</td><td>0.0</td></tr><tr><td>class_66_test_accuracy</td><td>0.0375</td></tr><tr><td>class_67_test_accuracy</td><td>0.1</td></tr><tr><td>class_68_test_accuracy</td><td>0.2875</td></tr><tr><td>class_69_test_accuracy</td><td>0.1875</td></tr><tr><td>class_6_test_accuracy</td><td>0.5625</td></tr><tr><td>class_70_test_accuracy</td><td>0.0875</td></tr><tr><td>class_71_test_accuracy</td><td>0.075</td></tr><tr><td>class_72_test_accuracy</td><td>0.0</td></tr><tr><td>class_73_test_accuracy</td><td>0.15</td></tr><tr><td>class_74_test_accuracy</td><td>0.0</td></tr><tr><td>class_75_test_accuracy</td><td>0.075</td></tr><tr><td>class_76_test_accuracy</td><td>0.075</td></tr><tr><td>class_77_test_accuracy</td><td>0.0</td></tr><tr><td>class_78_test_accuracy</td><td>0.0</td></tr><tr><td>class_79_test_accuracy</td><td>0.025</td></tr><tr><td>class_7_test_accuracy</td><td>0.4625</td></tr><tr><td>class_80_test_accuracy</td><td>0.0125</td></tr><tr><td>class_81_test_accuracy</td><td>0.0125</td></tr><tr><td>class_82_test_accuracy</td><td>0.125</td></tr><tr><td>class_83_test_accuracy</td><td>0.0375</td></tr><tr><td>class_84_test_accuracy</td><td>0.0</td></tr><tr><td>class_85_test_accuracy</td><td>0.0</td></tr><tr><td>class_86_test_accuracy</td><td>0.025</td></tr><tr><td>class_87_test_accuracy</td><td>0.0125</td></tr><tr><td>class_88_test_accuracy</td><td>0.0375</td></tr><tr><td>class_89_test_accuracy</td><td>0.0125</td></tr><tr><td>class_8_test_accuracy</td><td>0.4875</td></tr><tr><td>class_90_test_accuracy</td><td>0.0</td></tr><tr><td>class_91_test_accuracy</td><td>0.0</td></tr><tr><td>class_92_test_accuracy</td><td>0.0125</td></tr><tr><td>class_93_test_accuracy</td><td>0.0</td></tr><tr><td>class_94_test_accuracy</td><td>0.0</td></tr><tr><td>class_95_test_accuracy</td><td>0.0625</td></tr><tr><td>class_96_test_accuracy</td><td>0.0125</td></tr><tr><td>class_97_test_accuracy</td><td>0.0</td></tr><tr><td>class_98_test_accuracy</td><td>0.0</td></tr><tr><td>class_99_test_accuracy</td><td>0.0</td></tr><tr><td>class_9_test_accuracy</td><td>0.475</td></tr><tr><td>epoch</td><td>60</td></tr><tr><td>test_accuracy</td><td>0.19662</td></tr><tr><td>trainer/global_step</td><td>81360</td></tr></table>\n",
       "</div></div>\n",
       "Synced 6 W&B file(s), 3 media file(s), 2 artifact file(s) and 0 other file(s)\n",
       "<br/>Synced <strong style=\"color:#cdcd00\">visualization</strong>: <a href=\"https://wandb.ai/nazirnayal98/paying-attention-to-the-long-tail/runs/2r3iwse7\" target=\"_blank\">https://wandb.ai/nazirnayal98/paying-attention-to-the-long-tail/runs/2r3iwse7</a><br/>\n",
       "Find logs at: <code>./wandb/run-20211124_093808-2r3iwse7/logs</code><br/>\n"
      ],
      "text/plain": [
       "<IPython.core.display.HTML object>"
      ]
     },
     "metadata": {},
     "output_type": "display_data"
    }
   ],
   "source": [
    "wandb.finish()"
   ]
  }
 ],
 "metadata": {
  "kernelspec": {
   "display_name": "nazir_env",
   "language": "python",
   "name": "nazir_env"
  },
  "language_info": {
   "codemirror_mode": {
    "name": "ipython",
    "version": 3
   },
   "file_extension": ".py",
   "mimetype": "text/x-python",
   "name": "python",
   "nbconvert_exporter": "python",
   "pygments_lexer": "ipython3",
   "version": "3.8.12"
  }
 },
 "nbformat": 4,
 "nbformat_minor": 5
}
