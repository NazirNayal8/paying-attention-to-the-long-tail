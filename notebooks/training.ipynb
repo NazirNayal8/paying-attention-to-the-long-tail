{
 "cells": [
  {
   "cell_type": "code",
   "execution_count": 1,
   "metadata": {},
   "outputs": [],
   "source": [
    "import os\n",
    "os.chdir('../')"
   ]
  },
  {
   "cell_type": "code",
   "execution_count": 2,
   "metadata": {
    "pycharm": {
     "name": "#%%\n"
    }
   },
   "outputs": [
    {
     "data": {
      "text/plain": [
       "'/media/nazirnayal/DATA/projects/attention_long_tail/paying-attention-to-the-long-tail'"
      ]
     },
     "execution_count": 2,
     "metadata": {},
     "output_type": "execute_result"
    }
   ],
   "source": [
    "os.getcwd()"
   ]
  },
  {
   "cell_type": "code",
   "execution_count": 3,
   "metadata": {
    "pycharm": {
     "name": "#%%\n"
    }
   },
   "outputs": [],
   "source": [
    "%load_ext autoreload\n",
    "%autoreload 2"
   ]
  },
  {
   "cell_type": "code",
   "execution_count": 4,
   "metadata": {
    "pycharm": {
     "name": "#%%\n"
    }
   },
   "outputs": [],
   "source": [
    "import wandb\n",
    "import pytorch_lightning as pl\n",
    "import yaml\n",
    "from transformer_pl import Transformer\n",
    "from pytorch_lightning.loggers import WandbLogger"
   ]
  },
  {
   "cell_type": "code",
   "execution_count": 16,
   "metadata": {
    "pycharm": {
     "name": "#%%\n"
    }
   },
   "outputs": [
    {
     "data": {
      "text/plain": [
       "{'transformer_model': 'vit_base_patch16_224',\n",
       " 'model_provider': 'timm',\n",
       " 'pretrained': True,\n",
       " 'num_classes': 10,\n",
       " 'dataset': 'cifar10',\n",
       " 'loss_function': 'cross_entropy',\n",
       " 'optimizer': 'Adam',\n",
       " 'learning_rate': 0.001,\n",
       " 'weight_decay': 0.001,\n",
       " 'class_names': ['plane',\n",
       "  'car',\n",
       "  'bird',\n",
       "  'cat',\n",
       "  'deer',\n",
       "  'dog',\n",
       "  'frog',\n",
       "  'horse',\n",
       "  'ship',\n",
       "  'truck'],\n",
       " 'data_root': '/media/nazirnayal/DATA/datasets/cifar10',\n",
       " 'imb_type': 'exp',\n",
       " 'imb_factor': 0.1,\n",
       " 'random_seed': 0,\n",
       " 'test_ratio': 0.8,\n",
       " 'batch_size': 32,\n",
       " 'num_workers': 15,\n",
       " 'num_epochs': 2,\n",
       " 'img_size': 224}"
      ]
     },
     "execution_count": 16,
     "metadata": {},
     "output_type": "execute_result"
    }
   ],
   "source": [
    "def read_config(path):\n",
    "    with open(path, \"r\") as f:\n",
    "        config = yaml.load(f, Loader=yaml.FullLoader)\n",
    "    return config\n",
    "\n",
    "config = read_config('configs/cifar10_config_local.yaml')\n",
    "config"
   ]
  },
  {
   "cell_type": "code",
   "execution_count": 17,
   "metadata": {
    "pycharm": {
     "name": "#%%\n"
    }
   },
   "outputs": [
    {
     "name": "stderr",
     "output_type": "stream",
     "text": [
      "Global seed set to 0\n"
     ]
    },
    {
     "data": {
      "text/plain": [
       "0"
      ]
     },
     "execution_count": 17,
     "metadata": {},
     "output_type": "execute_result"
    }
   ],
   "source": [
    "pl.seed_everything(config['random_seed'])"
   ]
  },
  {
   "cell_type": "code",
   "execution_count": 18,
   "metadata": {
    "pycharm": {
     "name": "#%%\n"
    }
   },
   "outputs": [
    {
     "name": "stderr",
     "output_type": "stream",
     "text": [
      "GPU available: True, used: True\n",
      "TPU available: False, using: 0 TPU cores\n",
      "IPU available: False, using: 0 IPUs\n"
     ]
    }
   ],
   "source": [
    "model = Transformer(config)\n",
    "wandb_logger = WandbLogger(name='test_run', project='paying_attention_to_the_long_tail', job_type='train', log_model='all')\n",
    "\n",
    "trainer = pl.Trainer(\n",
    "    max_epochs=config['num_epochs'],\n",
    "    enable_checkpointing=True,\n",
    "    fast_dev_run=False,\n",
    "    overfit_batches=40,\n",
    "    gpus=1,\n",
    "    logger=wandb_logger,\n",
    "    log_every_n_steps=1,\n",
    "    profiler='simple',\n",
    ")"
   ]
  },
  {
   "cell_type": "code",
   "execution_count": 19,
   "metadata": {
    "scrolled": true
   },
   "outputs": [
    {
     "name": "stdout",
     "output_type": "stream",
     "text": [
      "Files already downloaded and verified\n",
      "Files already downloaded and verified\n",
      "Files already downloaded and verified\n"
     ]
    },
    {
     "name": "stderr",
     "output_type": "stream",
     "text": [
      "LOCAL_RANK: 0 - CUDA_VISIBLE_DEVICES: [0]\n",
      "\u001B[34m\u001B[1mwandb\u001B[0m: wandb version 0.12.7 is available!  To upgrade, please run:\n",
      "\u001B[34m\u001B[1mwandb\u001B[0m:  $ pip install wandb --upgrade\n"
     ]
    },
    {
     "data": {
      "text/html": [
       "\n",
       "                    Syncing run <strong><a href=\"https://wandb.ai/nazirnayal98/paying_attention_to_the_long_tail/runs/3jtzsjpr\" target=\"_blank\">test_run</a></strong> to <a href=\"https://wandb.ai/nazirnayal98/paying_attention_to_the_long_tail\" target=\"_blank\">Weights & Biases</a> (<a href=\"https://docs.wandb.com/integrations/jupyter.html\" target=\"_blank\">docs</a>).<br/>\n",
       "\n",
       "                "
      ],
      "text/plain": [
       "<IPython.core.display.HTML object>"
      ]
     },
     "metadata": {},
     "output_type": "display_data"
    },
    {
     "name": "stderr",
     "output_type": "stream",
     "text": [
      "\n",
      "  | Name                | Type             | Params\n",
      "---------------------------------------------------------\n",
      "0 | transformer         | TimmViT          | 85.8 M\n",
      "1 | loss_func           | CrossEntropyLoss | 0     \n",
      "2 | acc_train           | Accuracy         | 0     \n",
      "3 | acc_valid           | Accuracy         | 0     \n",
      "4 | acc_test            | Accuracy         | 0     \n",
      "5 | acc_per_class_train | ModuleList       | 0     \n",
      "6 | acc_per_class_valid | ModuleList       | 0     \n",
      "7 | acc_per_class_test  | ModuleList       | 0     \n",
      "---------------------------------------------------------\n",
      "85.8 M    Trainable params\n",
      "0         Non-trainable params\n",
      "85.8 M    Total params\n",
      "343.225   Total estimated model params size (MB)\n"
     ]
    },
    {
     "data": {
      "application/vnd.jupyter.widget-view+json": {
       "model_id": "",
       "version_major": 2,
       "version_minor": 0
      },
      "text/plain": [
       "Validation sanity check: 0it [00:00, ?it/s]"
      ]
     },
     "metadata": {},
     "output_type": "display_data"
    },
    {
     "name": "stderr",
     "output_type": "stream",
     "text": [
      "/home/nazirnayal/anaconda3/envs/nazir_env/lib/python3.8/site-packages/pytorch_lightning/trainer/data_loading.py:432: UserWarning: You requested to overfit but enabled val/test dataloader shuffling. We are turning it off for you.\n",
      "  rank_zero_warn(\n",
      "Global seed set to 0\n",
      "/home/nazirnayal/anaconda3/envs/nazir_env/lib/python3.8/site-packages/pytorch_lightning/trainer/data_loading.py:591: UserWarning: You requested to overfit but enabled training dataloader shuffling. We are turning off the training dataloader shuffling for you.\n",
      "  rank_zero_warn(\n"
     ]
    },
    {
     "data": {
      "application/vnd.jupyter.widget-view+json": {
       "model_id": "c86f1220ea0e4ad7a377182b1e5da395",
       "version_major": 2,
       "version_minor": 0
      },
      "text/plain": [
       "Training: 0it [00:00, ?it/s]"
      ]
     },
     "metadata": {},
     "output_type": "display_data"
    },
    {
     "data": {
      "application/vnd.jupyter.widget-view+json": {
       "model_id": "",
       "version_major": 2,
       "version_minor": 0
      },
      "text/plain": [
       "Validating: 0it [00:00, ?it/s]"
      ]
     },
     "metadata": {},
     "output_type": "display_data"
    },
    {
     "data": {
      "application/vnd.jupyter.widget-view+json": {
       "model_id": "",
       "version_major": 2,
       "version_minor": 0
      },
      "text/plain": [
       "Validating: 0it [00:00, ?it/s]"
      ]
     },
     "metadata": {},
     "output_type": "display_data"
    },
    {
     "name": "stderr",
     "output_type": "stream",
     "text": [
      "FIT Profiler Report\n",
      "\n",
      "Action                             \t|  Mean duration (s)\t|Num calls      \t|  Total time (s) \t|  Percentage %   \t|\n",
      "--------------------------------------------------------------------------------------------------------------------------------------\n",
      "Total                              \t|  -              \t|_              \t|  64.047         \t|  100 %          \t|\n",
      "--------------------------------------------------------------------------------------------------------------------------------------\n",
      "run_training_epoch                 \t|  26.622         \t|2              \t|  53.244         \t|  83.132         \t|\n",
      "run_training_batch                 \t|  0.20142        \t|80             \t|  16.114         \t|  25.16          \t|\n",
      "optimizer_step_with_closure_0      \t|  0.19159        \t|80             \t|  15.327         \t|  23.931         \t|\n",
      "on_train_epoch_end                 \t|  6.4906         \t|2              \t|  12.981         \t|  20.268         \t|\n",
      "training_step_and_backward         \t|  0.079998       \t|80             \t|  6.3999         \t|  9.9924         \t|\n",
      "model_forward                      \t|  0.069356       \t|80             \t|  5.5485         \t|  8.6632         \t|\n",
      "training_step                      \t|  0.069195       \t|80             \t|  5.5356         \t|  8.6431         \t|\n",
      "evaluation_step_and_end            \t|  0.063396       \t|82             \t|  5.1985         \t|  8.1167         \t|\n",
      "validation_step                    \t|  0.063348       \t|82             \t|  5.1945         \t|  8.1105         \t|\n",
      "setup                              \t|  1.4406         \t|1              \t|  1.4406         \t|  2.2494         \t|\n",
      "backward                           \t|  0.0098473      \t|80             \t|  0.78778        \t|  1.23           \t|\n",
      "evaluation_batch_to_device         \t|  0.0029672      \t|82             \t|  0.24331        \t|  0.3799         \t|\n",
      "get_validate_batch                 \t|  0.0028313      \t|82             \t|  0.23217        \t|  0.36249        \t|\n",
      "fetch_next_validate_batch          \t|  0.0028156      \t|82             \t|  0.23088        \t|  0.36049        \t|\n",
      "training_batch_to_device           \t|  0.0028327      \t|80             \t|  0.22662        \t|  0.35383        \t|\n",
      "get_train_batch                    \t|  0.0024218      \t|82             \t|  0.19859        \t|  0.31007        \t|\n",
      "fetch_next_train_batch             \t|  0.0024052      \t|82             \t|  0.19723        \t|  0.30794        \t|\n",
      "on_train_batch_end                 \t|  0.0016732      \t|80             \t|  0.13386        \t|  0.209          \t|\n",
      "get_sanity_check_batch             \t|  0.033618       \t|3              \t|  0.10085        \t|  0.15747        \t|\n",
      "fetch_next_sanity_check_batch      \t|  0.033577       \t|3              \t|  0.10073        \t|  0.15728        \t|\n",
      "on_validation_batch_end            \t|  0.00082072     \t|82             \t|  0.067299       \t|  0.10508        \t|\n",
      "zero_grad                          \t|  0.00077297     \t|80             \t|  0.061837       \t|  0.09655        \t|\n",
      "on_validation_start                \t|  0.01261        \t|3              \t|  0.037829       \t|  0.059064       \t|\n",
      "on_train_start                     \t|  0.022704       \t|1              \t|  0.022704       \t|  0.035449       \t|\n",
      "on_sanity_check_start              \t|  0.012932       \t|1              \t|  0.012932       \t|  0.020191       \t|\n",
      "on_train_batch_start               \t|  0.00010481     \t|80             \t|  0.0083847      \t|  0.013091       \t|\n",
      "on_validation_end                  \t|  0.001866       \t|3              \t|  0.0055979      \t|  0.0087403      \t|\n",
      "on_pretrain_routine_start          \t|  0.004981       \t|1              \t|  0.004981       \t|  0.0077771      \t|\n",
      "on_validation_model_eval           \t|  0.00096353     \t|3              \t|  0.0028906      \t|  0.0045132      \t|\n",
      "on_train_epoch_start               \t|  0.0010814      \t|2              \t|  0.0021628      \t|  0.0033768      \t|\n",
      "on_batch_start                     \t|  2.1719e-05     \t|80             \t|  0.0017375      \t|  0.0027129      \t|\n",
      "on_validation_batch_start          \t|  1.655e-05      \t|82             \t|  0.0013571      \t|  0.0021189      \t|\n",
      "on_before_zero_grad                \t|  1.2792e-05     \t|80             \t|  0.0010234      \t|  0.0015979      \t|\n",
      "on_after_backward                  \t|  1.1701e-05     \t|80             \t|  0.00093605     \t|  0.0014615      \t|\n",
      "on_batch_end                       \t|  1.0956e-05     \t|80             \t|  0.0008765      \t|  0.0013685      \t|\n",
      "on_before_backward                 \t|  9.3749e-06     \t|80             \t|  0.00074999     \t|  0.001171       \t|\n",
      "on_train_end                       \t|  0.00067674     \t|1              \t|  0.00067674     \t|  0.0010566      \t|\n",
      "configure_optimizers               \t|  0.0005866      \t|1              \t|  0.0005866      \t|  0.00091589     \t|\n",
      "on_before_optimizer_step           \t|  6.8073e-06     \t|80             \t|  0.00054458     \t|  0.00085028     \t|\n",
      "validation_step_end                \t|  5.2706e-06     \t|82             \t|  0.00043219     \t|  0.00067481     \t|\n",
      "training_step_end                  \t|  5.0493e-06     \t|80             \t|  0.00040394     \t|  0.0006307      \t|\n",
      "train_dataloader                   \t|  0.00011387     \t|2              \t|  0.00022774     \t|  0.00035558     \t|\n",
      "on_validation_epoch_end            \t|  4.3192e-05     \t|3              \t|  0.00012957     \t|  0.00020231     \t|\n",
      "val_dataloader                     \t|  0.0001242      \t|1              \t|  0.0001242      \t|  0.00019392     \t|\n",
      "on_sanity_check_end                \t|  0.00010872     \t|1              \t|  0.00010872     \t|  0.00016975     \t|\n",
      "on_epoch_end                       \t|  1.7571e-05     \t|5              \t|  8.7857e-05     \t|  0.00013718     \t|\n",
      "on_epoch_start                     \t|  1.3244e-05     \t|5              \t|  6.6221e-05     \t|  0.00010339     \t|\n",
      "on_validation_epoch_start          \t|  8.488e-06      \t|3              \t|  2.5464e-05     \t|  3.9758e-05     \t|\n",
      "on_fit_end                         \t|  1.7003e-05     \t|1              \t|  1.7003e-05     \t|  2.6548e-05     \t|\n",
      "on_configure_sharded_model         \t|  1.3027e-05     \t|1              \t|  1.3027e-05     \t|  2.034e-05      \t|\n",
      "on_before_accelerator_backend_setup\t|  1.2313e-05     \t|1              \t|  1.2313e-05     \t|  1.9225e-05     \t|\n",
      "on_fit_start                       \t|  1.1148e-05     \t|1              \t|  1.1148e-05     \t|  1.7406e-05     \t|\n",
      "on_pretrain_routine_end            \t|  1.007e-05      \t|1              \t|  1.007e-05      \t|  1.5723e-05     \t|\n",
      "teardown                           \t|  9.745e-06      \t|1              \t|  9.745e-06      \t|  1.5215e-05     \t|\n",
      "on_train_dataloader                \t|  3.698e-06      \t|2              \t|  7.3961e-06     \t|  1.1548e-05     \t|\n",
      "configure_sharded_model            \t|  6.8849e-06     \t|1              \t|  6.8849e-06     \t|  1.075e-05      \t|\n",
      "prepare_data                       \t|  4.578e-06      \t|1              \t|  4.578e-06      \t|  7.1479e-06     \t|\n",
      "on_val_dataloader                  \t|  3.9069e-06     \t|1              \t|  3.9069e-06     \t|  6.1001e-06     \t|\n",
      "configure_callbacks                \t|  2.349e-06      \t|1              \t|  2.349e-06      \t|  3.6677e-06     \t|\n",
      "\n"
     ]
    }
   ],
   "source": [
    "trainer.fit(model)"
   ]
  },
  {
   "cell_type": "code",
   "execution_count": 20,
   "metadata": {},
   "outputs": [
    {
     "name": "stdout",
     "output_type": "stream",
     "text": [
      "Files already downloaded and verified\n",
      "Files already downloaded and verified\n",
      "Files already downloaded and verified\n"
     ]
    },
    {
     "name": "stderr",
     "output_type": "stream",
     "text": [
      "LOCAL_RANK: 0 - CUDA_VISIBLE_DEVICES: [0]\n"
     ]
    },
    {
     "data": {
      "application/vnd.jupyter.widget-view+json": {
       "model_id": "fa4b6b081e6042779b8abade77d54e22",
       "version_major": 2,
       "version_minor": 0
      },
      "text/plain": [
       "Testing: 0it [00:00, ?it/s]"
      ]
     },
     "metadata": {},
     "output_type": "display_data"
    },
    {
     "name": "stdout",
     "output_type": "stream",
     "text": [
      "--------------------------------------------------------------------------------\n",
      "DATALOADER:0 TEST RESULTS\n",
      "{'class_0_test_accuracy': 1.0, 'test_accuracy': 1.0}\n",
      "--------------------------------------------------------------------------------\n"
     ]
    },
    {
     "name": "stderr",
     "output_type": "stream",
     "text": [
      "TEST Profiler Report\n",
      "\n",
      "Action                             \t|  Mean duration (s)\t|Num calls      \t|  Total time (s) \t|  Percentage %   \t|\n",
      "---------------------------------------------------------------------------------------------------------------------------------------\n",
      "Total                              \t|  -              \t|_              \t|  113.19         \t|  100 %          \t|\n",
      "---------------------------------------------------------------------------------------------------------------------------------------\n",
      "run_training_epoch                 \t|  26.622         \t|2              \t|  53.244         \t|  47.038         \t|\n",
      "run_training_batch                 \t|  0.20142        \t|80             \t|  16.114         \t|  14.236         \t|\n",
      "optimizer_step_with_closure_0      \t|  0.19159        \t|80             \t|  15.327         \t|  13.541         \t|\n",
      "on_train_epoch_end                 \t|  6.4906         \t|2              \t|  12.981         \t|  11.468         \t|\n",
      "evaluation_step_and_end            \t|  0.063323       \t|122            \t|  7.7254         \t|  6.825          \t|\n",
      "training_step_and_backward         \t|  0.079998       \t|80             \t|  6.3999         \t|  5.654          \t|\n",
      "model_forward                      \t|  0.069356       \t|80             \t|  5.5485         \t|  4.9019         \t|\n",
      "training_step                      \t|  0.069195       \t|80             \t|  5.5356         \t|  4.8905         \t|\n",
      "validation_step                    \t|  0.063348       \t|82             \t|  5.1945         \t|  4.5891         \t|\n",
      "run_test_evaluation                \t|  4.942          \t|1              \t|  4.942          \t|  4.366          \t|\n",
      "setup                              \t|  1.4457         \t|2              \t|  2.8915         \t|  2.5545         \t|\n",
      "test_step                          \t|  0.063119       \t|40             \t|  2.5248         \t|  2.2305         \t|\n",
      "backward                           \t|  0.0098473      \t|80             \t|  0.78778        \t|  0.69597        \t|\n",
      "evaluation_batch_to_device         \t|  0.0029614      \t|122            \t|  0.36129        \t|  0.31919        \t|\n",
      "get_validate_batch                 \t|  0.0028313      \t|82             \t|  0.23217        \t|  0.20511        \t|\n",
      "fetch_next_validate_batch          \t|  0.0028156      \t|82             \t|  0.23088        \t|  0.20397        \t|\n",
      "training_batch_to_device           \t|  0.0028327      \t|80             \t|  0.22662        \t|  0.20021        \t|\n",
      "get_train_batch                    \t|  0.0024218      \t|82             \t|  0.19859        \t|  0.17544        \t|\n",
      "fetch_next_train_batch             \t|  0.0024052      \t|82             \t|  0.19723        \t|  0.17424        \t|\n",
      "get_test_batch                     \t|  0.0038896      \t|41             \t|  0.15947        \t|  0.14089        \t|\n",
      "fetch_next_test_batch              \t|  0.0038762      \t|41             \t|  0.15893        \t|  0.1404         \t|\n",
      "on_train_batch_end                 \t|  0.0016732      \t|80             \t|  0.13386        \t|  0.11826        \t|\n",
      "get_sanity_check_batch             \t|  0.033618       \t|3              \t|  0.10085        \t|  0.0891         \t|\n",
      "fetch_next_sanity_check_batch      \t|  0.033577       \t|3              \t|  0.10073        \t|  0.08899        \t|\n",
      "on_validation_batch_end            \t|  0.00082072     \t|82             \t|  0.067299       \t|  0.059456       \t|\n",
      "zero_grad                          \t|  0.00077297     \t|80             \t|  0.061837       \t|  0.05463        \t|\n",
      "on_validation_start                \t|  0.01261        \t|3              \t|  0.037829       \t|  0.03342        \t|\n",
      "on_train_start                     \t|  0.022704       \t|1              \t|  0.022704       \t|  0.020058       \t|\n",
      "on_test_batch_end                  \t|  0.00039624     \t|40             \t|  0.01585        \t|  0.014002       \t|\n",
      "on_test_start                      \t|  0.013483       \t|1              \t|  0.013483       \t|  0.011912       \t|\n",
      "on_sanity_check_start              \t|  0.012932       \t|1              \t|  0.012932       \t|  0.011424       \t|\n",
      "on_train_batch_start               \t|  0.00010481     \t|80             \t|  0.0083847      \t|  0.0074075      \t|\n",
      "on_validation_end                  \t|  0.001866       \t|3              \t|  0.0055979      \t|  0.0049455      \t|\n",
      "on_pretrain_routine_start          \t|  0.004981       \t|1              \t|  0.004981       \t|  0.0044005      \t|\n",
      "on_validation_model_eval           \t|  0.00096353     \t|3              \t|  0.0028906      \t|  0.0025537      \t|\n",
      "on_train_epoch_start               \t|  0.0010814      \t|2              \t|  0.0021628      \t|  0.0019107      \t|\n",
      "on_batch_start                     \t|  2.1719e-05     \t|80             \t|  0.0017375      \t|  0.001535       \t|\n",
      "on_validation_batch_start          \t|  1.655e-05      \t|82             \t|  0.0013571      \t|  0.0011989      \t|\n",
      "on_before_zero_grad                \t|  1.2792e-05     \t|80             \t|  0.0010234      \t|  0.00090411     \t|\n",
      "on_after_backward                  \t|  1.1701e-05     \t|80             \t|  0.00093605     \t|  0.00082696     \t|\n",
      "on_batch_end                       \t|  1.0956e-05     \t|80             \t|  0.0008765      \t|  0.00077435     \t|\n",
      "on_test_end                        \t|  0.00077425     \t|1              \t|  0.00077425     \t|  0.00068401     \t|\n",
      "on_before_backward                 \t|  9.3749e-06     \t|80             \t|  0.00074999     \t|  0.00066259     \t|\n",
      "on_train_end                       \t|  0.00067674     \t|1              \t|  0.00067674     \t|  0.00059787     \t|\n",
      "on_test_batch_start                \t|  1.5077e-05     \t|40             \t|  0.00060309     \t|  0.0005328      \t|\n",
      "on_test_model_eval                 \t|  0.00059023     \t|1              \t|  0.00059023     \t|  0.00052144     \t|\n",
      "configure_optimizers               \t|  0.0005866      \t|1              \t|  0.0005866      \t|  0.00051824     \t|\n",
      "on_before_optimizer_step           \t|  6.8073e-06     \t|80             \t|  0.00054458     \t|  0.00048111     \t|\n",
      "validation_step_end                \t|  5.2706e-06     \t|82             \t|  0.00043219     \t|  0.00038182     \t|\n",
      "training_step_end                  \t|  5.0493e-06     \t|80             \t|  0.00040394     \t|  0.00035687     \t|\n",
      "train_dataloader                   \t|  9.532e-05      \t|3              \t|  0.00028596     \t|  0.00025263     \t|\n",
      "test_step_end                      \t|  5.9503e-06     \t|40             \t|  0.00023801     \t|  0.00021027     \t|\n",
      "on_validation_epoch_end            \t|  4.3192e-05     \t|3              \t|  0.00012957     \t|  0.00011447     \t|\n",
      "val_dataloader                     \t|  0.0001242      \t|1              \t|  0.0001242      \t|  0.00010972     \t|\n",
      "on_sanity_check_end                \t|  0.00010872     \t|1              \t|  0.00010872     \t|  9.6047e-05     \t|\n",
      "test_dataloader                    \t|  0.00010104     \t|1              \t|  0.00010104     \t|  8.9267e-05     \t|\n",
      "on_epoch_end                       \t|  1.661e-05      \t|6              \t|  9.966e-05      \t|  8.8045e-05     \t|\n",
      "on_epoch_start                     \t|  1.2573e-05     \t|6              \t|  7.5436e-05     \t|  6.6644e-05     \t|\n",
      "on_configure_sharded_model         \t|  1.3697e-05     \t|2              \t|  2.7394e-05     \t|  2.4201e-05     \t|\n",
      "on_before_accelerator_backend_setup\t|  1.2912e-05     \t|2              \t|  2.5824e-05     \t|  2.2814e-05     \t|\n",
      "teardown                           \t|  1.2832e-05     \t|2              \t|  2.5664e-05     \t|  2.2673e-05     \t|\n",
      "on_validation_epoch_start          \t|  8.488e-06      \t|3              \t|  2.5464e-05     \t|  2.2496e-05     \t|\n",
      "on_test_epoch_end                  \t|  2.1597e-05     \t|1              \t|  2.1597e-05     \t|  1.908e-05      \t|\n",
      "on_fit_end                         \t|  1.7003e-05     \t|1              \t|  1.7003e-05     \t|  1.5021e-05     \t|\n",
      "configure_sharded_model            \t|  6.6145e-06     \t|2              \t|  1.3229e-05     \t|  1.1687e-05     \t|\n",
      "on_fit_start                       \t|  1.1148e-05     \t|1              \t|  1.1148e-05     \t|  9.8488e-06     \t|\n",
      "on_train_dataloader                \t|  3.5854e-06     \t|3              \t|  1.0756e-05     \t|  9.5025e-06     \t|\n",
      "on_pretrain_routine_end            \t|  1.007e-05      \t|1              \t|  1.007e-05      \t|  8.8963e-06     \t|\n",
      "prepare_data                       \t|  4.6965e-06     \t|2              \t|  9.393e-06      \t|  8.2983e-06     \t|\n",
      "on_test_epoch_start                \t|  7.47e-06       \t|1              \t|  7.47e-06       \t|  6.5994e-06     \t|\n",
      "on_test_dataloader                 \t|  4.618e-06      \t|1              \t|  4.618e-06      \t|  4.0798e-06     \t|\n",
      "configure_callbacks                \t|  2.267e-06      \t|2              \t|  4.534e-06      \t|  4.0056e-06     \t|\n",
      "on_val_dataloader                  \t|  3.9069e-06     \t|1              \t|  3.9069e-06     \t|  3.4516e-06     \t|\n",
      "\n"
     ]
    },
    {
     "data": {
      "text/plain": [
       "[{'test_accuracy': 1.0, 'class_0_test_accuracy': 1.0}]"
      ]
     },
     "execution_count": 20,
     "metadata": {},
     "output_type": "execute_result"
    }
   ],
   "source": [
    "trainer.test(model)"
   ]
  },
  {
   "cell_type": "code",
   "execution_count": 14,
   "metadata": {},
   "outputs": [],
   "source": [
    "wandb.finish()"
   ]
  },
  {
   "cell_type": "code",
   "execution_count": 15,
   "metadata": {},
   "outputs": [],
   "source": [
    "trainer.logger.experiment.finish(exit_code=1)"
   ]
  }
 ],
 "metadata": {
  "kernelspec": {
   "display_name": "nazir_env",
   "language": "python",
   "name": "nazir_env"
  },
  "language_info": {
   "codemirror_mode": {
    "name": "ipython",
    "version": 3
   },
   "file_extension": ".py",
   "mimetype": "text/x-python",
   "name": "python",
   "nbconvert_exporter": "python",
   "pygments_lexer": "ipython3",
   "version": "3.8.12"
  }
 },
 "nbformat": 4,
 "nbformat_minor": 1
}